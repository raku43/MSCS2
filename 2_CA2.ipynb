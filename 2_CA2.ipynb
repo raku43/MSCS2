{
 "cells": [
  {
   "cell_type": "code",
   "execution_count": 1,
   "id": "032bd107",
   "metadata": {},
   "outputs": [],
   "source": [
    "# Import Libraries\n",
    "import numpy as np\n",
    "import pandas as pd\n",
    "import seaborn as sns\n",
    "import matplotlib.pyplot as plt\n",
    "%matplotlib inline\n",
    "import requests\n",
    "import io\n",
    "\n",
    "\n",
    "from skforecast.model_selection import grid_search_forecaster\n",
    "from skforecast.ForecasterAutoreg import ForecasterAutoreg\n",
    "from skforecast.ForecasterAutoregCustom import ForecasterAutoregCustom\n",
    "\n",
    "from sklearn.ensemble import RandomForestClassifier\n",
    "#Filter warnings\n",
    "from warnings import filterwarnings\n",
    "filterwarnings('ignore')"
   ]
  },
  {
   "cell_type": "code",
   "execution_count": 2,
   "id": "ca6363bc",
   "metadata": {},
   "outputs": [],
   "source": [
    "# Download the csv file prepared by Apache spark from the githib repository\n",
    "url='https://raw.githubusercontent.com/raku43/MSCS2/main/Clean_Tweet_Ca2.csv'\n",
    "download=requests.get(url).content\n",
    "#download"
   ]
  },
  {
   "cell_type": "code",
   "execution_count": 3,
   "id": "ef5f65de",
   "metadata": {},
   "outputs": [
    {
     "data": {
      "text/html": [
       "<div>\n",
       "<style scoped>\n",
       "    .dataframe tbody tr th:only-of-type {\n",
       "        vertical-align: middle;\n",
       "    }\n",
       "\n",
       "    .dataframe tbody tr th {\n",
       "        vertical-align: top;\n",
       "    }\n",
       "\n",
       "    .dataframe thead th {\n",
       "        text-align: right;\n",
       "    }\n",
       "</style>\n",
       "<table border=\"1\" class=\"dataframe\">\n",
       "  <thead>\n",
       "    <tr style=\"text-align: right;\">\n",
       "      <th></th>\n",
       "      <th>Unnamed: 0</th>\n",
       "      <th>tweetid</th>\n",
       "      <th>Date</th>\n",
       "      <th>Year</th>\n",
       "      <th>Month</th>\n",
       "      <th>Day</th>\n",
       "      <th>Tweet</th>\n",
       "      <th>sentiment</th>\n",
       "    </tr>\n",
       "  </thead>\n",
       "  <tbody>\n",
       "    <tr>\n",
       "      <th>0</th>\n",
       "      <td>0</td>\n",
       "      <td>1282939902531790000</td>\n",
       "      <td>14/07/2020</td>\n",
       "      <td>2020.0</td>\n",
       "      <td>7.0</td>\n",
       "      <td>Tuesday</td>\n",
       "      <td>Cute</td>\n",
       "      <td>1</td>\n",
       "    </tr>\n",
       "    <tr>\n",
       "      <th>1</th>\n",
       "      <td>1</td>\n",
       "      <td>1282844872571900000</td>\n",
       "      <td>14/07/2020</td>\n",
       "      <td>2020.0</td>\n",
       "      <td>7.0</td>\n",
       "      <td>Tuesday</td>\n",
       "      <td>Wow</td>\n",
       "      <td>1</td>\n",
       "    </tr>\n",
       "    <tr>\n",
       "      <th>2</th>\n",
       "      <td>2</td>\n",
       "      <td>1282805559834490000</td>\n",
       "      <td>13/07/2020</td>\n",
       "      <td>2020.0</td>\n",
       "      <td>7.0</td>\n",
       "      <td>Monday</td>\n",
       "      <td>Reusability essential rocket single use absurd...</td>\n",
       "      <td>0</td>\n",
       "    </tr>\n",
       "    <tr>\n",
       "      <th>3</th>\n",
       "      <td>3</td>\n",
       "      <td>1282800187308570000</td>\n",
       "      <td>13/07/2020</td>\n",
       "      <td>2020.0</td>\n",
       "      <td>7.0</td>\n",
       "      <td>Monday</td>\n",
       "      <td>Wild times</td>\n",
       "      <td>2</td>\n",
       "    </tr>\n",
       "    <tr>\n",
       "      <th>4</th>\n",
       "      <td>4</td>\n",
       "      <td>1282800078000800000</td>\n",
       "      <td>13/07/2020</td>\n",
       "      <td>2020.0</td>\n",
       "      <td>7.0</td>\n",
       "      <td>Monday</td>\n",
       "      <td>We’re extra paranoid Maximizing probability su...</td>\n",
       "      <td>1</td>\n",
       "    </tr>\n",
       "  </tbody>\n",
       "</table>\n",
       "</div>"
      ],
      "text/plain": [
       "   Unnamed: 0              tweetid        Date    Year  Month      Day  \\\n",
       "0           0  1282939902531790000  14/07/2020  2020.0    7.0  Tuesday   \n",
       "1           1  1282844872571900000  14/07/2020  2020.0    7.0  Tuesday   \n",
       "2           2  1282805559834490000  13/07/2020  2020.0    7.0   Monday   \n",
       "3           3  1282800187308570000  13/07/2020  2020.0    7.0   Monday   \n",
       "4           4  1282800078000800000  13/07/2020  2020.0    7.0   Monday   \n",
       "\n",
       "                                               Tweet  sentiment  \n",
       "0                                               Cute          1  \n",
       "1                                                Wow          1  \n",
       "2  Reusability essential rocket single use absurd...          0  \n",
       "3                                         Wild times          2  \n",
       "4  We’re extra paranoid Maximizing probability su...          1  "
      ]
     },
     "execution_count": 3,
     "metadata": {},
     "output_type": "execute_result"
    }
   ],
   "source": [
    "#Read the csv file with utf-8 decoding\n",
    "df = pd.read_csv(io.StringIO(download.decode('utf-8')))\n",
    "df.head()"
   ]
  },
  {
   "cell_type": "code",
   "execution_count": 204,
   "id": "e94609ec",
   "metadata": {},
   "outputs": [],
   "source": [
    "df=df[['tweetid','Date','Year','Month','Day','Tweet','sentiment']]"
   ]
  },
  {
   "cell_type": "code",
   "execution_count": 205,
   "id": "1f9c3688",
   "metadata": {},
   "outputs": [
    {
     "data": {
      "text/html": [
       "<div>\n",
       "<style scoped>\n",
       "    .dataframe tbody tr th:only-of-type {\n",
       "        vertical-align: middle;\n",
       "    }\n",
       "\n",
       "    .dataframe tbody tr th {\n",
       "        vertical-align: top;\n",
       "    }\n",
       "\n",
       "    .dataframe thead th {\n",
       "        text-align: right;\n",
       "    }\n",
       "</style>\n",
       "<table border=\"1\" class=\"dataframe\">\n",
       "  <thead>\n",
       "    <tr style=\"text-align: right;\">\n",
       "      <th></th>\n",
       "      <th>tweetid</th>\n",
       "      <th>Date</th>\n",
       "      <th>Year</th>\n",
       "      <th>Month</th>\n",
       "      <th>Day</th>\n",
       "      <th>Tweet</th>\n",
       "      <th>sentiment</th>\n",
       "    </tr>\n",
       "  </thead>\n",
       "  <tbody>\n",
       "    <tr>\n",
       "      <th>0</th>\n",
       "      <td>1282939902531790000</td>\n",
       "      <td>14/07/2020</td>\n",
       "      <td>2020.0</td>\n",
       "      <td>7.0</td>\n",
       "      <td>Tuesday</td>\n",
       "      <td>Cute</td>\n",
       "      <td>1</td>\n",
       "    </tr>\n",
       "    <tr>\n",
       "      <th>1</th>\n",
       "      <td>1282844872571900000</td>\n",
       "      <td>14/07/2020</td>\n",
       "      <td>2020.0</td>\n",
       "      <td>7.0</td>\n",
       "      <td>Tuesday</td>\n",
       "      <td>Wow</td>\n",
       "      <td>1</td>\n",
       "    </tr>\n",
       "    <tr>\n",
       "      <th>2</th>\n",
       "      <td>1282805559834490000</td>\n",
       "      <td>13/07/2020</td>\n",
       "      <td>2020.0</td>\n",
       "      <td>7.0</td>\n",
       "      <td>Monday</td>\n",
       "      <td>Reusability essential rocket single use absurd...</td>\n",
       "      <td>0</td>\n",
       "    </tr>\n",
       "    <tr>\n",
       "      <th>3</th>\n",
       "      <td>1282800187308570000</td>\n",
       "      <td>13/07/2020</td>\n",
       "      <td>2020.0</td>\n",
       "      <td>7.0</td>\n",
       "      <td>Monday</td>\n",
       "      <td>Wild times</td>\n",
       "      <td>2</td>\n",
       "    </tr>\n",
       "    <tr>\n",
       "      <th>4</th>\n",
       "      <td>1282800078000800000</td>\n",
       "      <td>13/07/2020</td>\n",
       "      <td>2020.0</td>\n",
       "      <td>7.0</td>\n",
       "      <td>Monday</td>\n",
       "      <td>We’re extra paranoid Maximizing probability su...</td>\n",
       "      <td>1</td>\n",
       "    </tr>\n",
       "  </tbody>\n",
       "</table>\n",
       "</div>"
      ],
      "text/plain": [
       "               tweetid        Date    Year  Month      Day  \\\n",
       "0  1282939902531790000  14/07/2020  2020.0    7.0  Tuesday   \n",
       "1  1282844872571900000  14/07/2020  2020.0    7.0  Tuesday   \n",
       "2  1282805559834490000  13/07/2020  2020.0    7.0   Monday   \n",
       "3  1282800187308570000  13/07/2020  2020.0    7.0   Monday   \n",
       "4  1282800078000800000  13/07/2020  2020.0    7.0   Monday   \n",
       "\n",
       "                                               Tweet  sentiment  \n",
       "0                                               Cute          1  \n",
       "1                                                Wow          1  \n",
       "2  Reusability essential rocket single use absurd...          0  \n",
       "3                                         Wild times          2  \n",
       "4  We’re extra paranoid Maximizing probability su...          1  "
      ]
     },
     "execution_count": 205,
     "metadata": {},
     "output_type": "execute_result"
    }
   ],
   "source": [
    "df.head()"
   ]
  },
  {
   "cell_type": "code",
   "execution_count": 206,
   "id": "21b97500",
   "metadata": {},
   "outputs": [
    {
     "data": {
      "text/plain": [
       "count    9201.000000\n",
       "mean        1.259537\n",
       "std         0.666939\n",
       "min         0.000000\n",
       "25%         1.000000\n",
       "50%         1.000000\n",
       "75%         2.000000\n",
       "max         2.000000\n",
       "Name: sentiment, dtype: float64"
      ]
     },
     "execution_count": 206,
     "metadata": {},
     "output_type": "execute_result"
    }
   ],
   "source": [
    "df['sentiment'].describe()"
   ]
  },
  {
   "cell_type": "code",
   "execution_count": 207,
   "id": "b9b16d77",
   "metadata": {},
   "outputs": [],
   "source": [
    "a = df.Tweet.to_string() #loads the row from dataframe\n",
    "#print(a)"
   ]
  },
  {
   "cell_type": "code",
   "execution_count": 208,
   "id": "7cf8cf65",
   "metadata": {},
   "outputs": [],
   "source": [
    "#Remove Emojis\n",
    "import re\n",
    "regex_pattern = re.compile(pattern = \"[\"\n",
    "        u\"\\U0001F600-\\U0001F64F\"  # emoticons\n",
    "        u\"\\U0001F300-\\U0001F5FF\"  # symbols & pictographs\n",
    "        u\"\\U0001F680-\\U0001F6FF\"  # transport & map symbols\n",
    "        u\"\\U0001F1E0-\\U0001F1FF\"  # flags (iOS)\n",
    "                           \"]+\", flags = re.UNICODE)\n",
    "match = re.sub(regex_pattern,'',a) #replaces pattern with ''\n",
    "#print(match)"
   ]
  },
  {
   "cell_type": "code",
   "execution_count": 209,
   "id": "7eb8f60e",
   "metadata": {},
   "outputs": [],
   "source": [
    "re_list = ['@[A-Za-z0–9_]+', '#']\n",
    "combined_re = re.compile( '|'.join( re_list) )\n",
    "match = re.sub(combined_re,'',a)"
   ]
  },
  {
   "cell_type": "code",
   "execution_count": 210,
   "id": "cbcd2f7f",
   "metadata": {},
   "outputs": [],
   "source": [
    "from bs4 import BeautifulSoup\n",
    "del_amp = BeautifulSoup(a, 'lxml')\n",
    "del_amp_text = del_amp.get_text()\n"
   ]
  },
  {
   "cell_type": "code",
   "execution_count": 211,
   "id": "fa95d74c",
   "metadata": {},
   "outputs": [],
   "source": [
    "from bs4 import BeautifulSoup\n",
    "from nltk.tokenize import WordPunctTokenizer\n",
    "token = WordPunctTokenizer()\n",
    "def cleaning_tweets(t):\n",
    "    del_amp = BeautifulSoup(t, 'lxml')\n",
    "    del_amp_text = del_amp.get_text()\n",
    "    del_link_mentions = re.sub(combined_re, '', del_amp_text)\n",
    "    del_emoticons = re.sub(regex_pattern, '', del_link_mentions)\n",
    "    lower_case = del_emoticons.lower()\n",
    "    words = token.tokenize(lower_case)\n",
    "    result_words = [x for x in words if len(x) > 2]\n",
    "    return (\" \".join(result_words)).strip()"
   ]
  },
  {
   "cell_type": "code",
   "execution_count": 212,
   "id": "69e2e842",
   "metadata": {},
   "outputs": [
    {
     "name": "stdout",
     "output_type": "stream",
     "text": [
      "Cleaning the tweets...\n",
      "\n"
     ]
    }
   ],
   "source": [
    "print(\"Cleaning the tweets...\\n\")\n",
    "cleaned_tweets = []\n",
    "for i in range(0,24): #3000 columns in our dataframe\n",
    "    if( (i+1)%100 == 0 ):\n",
    "        print(\"Tweets {} of {} have ben processed\".format(i+1,24))                                                                  \n",
    "    cleaned_tweets.append(cleaning_tweets((df.Tweet[i])))\n"
   ]
  },
  {
   "cell_type": "code",
   "execution_count": 213,
   "id": "64fb8637",
   "metadata": {},
   "outputs": [],
   "source": [
    "string = pd.Series(cleaned_tweets).str.cat(sep=' ')\n"
   ]
  },
  {
   "cell_type": "code",
   "execution_count": 214,
   "id": "a833eb10",
   "metadata": {},
   "outputs": [],
   "source": [
    "#wordcloud = WordCloud(width=1600, stopwords=stopwords,height=800,max_font_size=200,max_words=2,collocations=False, background_color='black').generate(string)\n",
    "#plt.figure(figsize=(40,30))\n",
    "#plt.imshow(wordcloud, interpolation=\"bilinear\")\n",
    "#plt.axis(\"off\")\n",
    "#plt.show()"
   ]
  },
  {
   "cell_type": "code",
   "execution_count": 215,
   "id": "a747f446",
   "metadata": {},
   "outputs": [
    {
     "data": {
      "text/plain": [
       "sentiment\n",
       "0    1162\n",
       "1    4489\n",
       "2    3550\n",
       "Name: Tweet, dtype: int64"
      ]
     },
     "execution_count": 215,
     "metadata": {},
     "output_type": "execute_result"
    }
   ],
   "source": [
    "df.groupby(['sentiment'])['Tweet'].agg('count')"
   ]
  },
  {
   "cell_type": "markdown",
   "id": "ac3bce6e",
   "metadata": {},
   "source": [
    "1 -> Positive tweets\n",
    "0 -> Negative Tweets\n",
    "2 -> Neutral\n"
   ]
  },
  {
   "cell_type": "code",
   "execution_count": 216,
   "id": "1a1f9ef2",
   "metadata": {},
   "outputs": [
    {
     "data": {
      "text/plain": [
       "sentiment  Day      \n",
       "0          Wednesday    132\n",
       "           Tuesday      141\n",
       "           Monday       153\n",
       "           Sunday       178\n",
       "           Thursday     180\n",
       "           Saturday     182\n",
       "           Friday       196\n",
       "2          Tuesday      438\n",
       "           Monday       453\n",
       "           Wednesday    473\n",
       "           Saturday     509\n",
       "           Sunday       520\n",
       "           Thursday     537\n",
       "1          Wednesday    563\n",
       "           Tuesday      571\n",
       "           Monday       581\n",
       "2          Friday       620\n",
       "1          Thursday     672\n",
       "           Saturday     687\n",
       "           Sunday       697\n",
       "           Friday       718\n",
       "Name: count, dtype: int64"
      ]
     },
     "execution_count": 216,
     "metadata": {},
     "output_type": "execute_result"
    }
   ],
   "source": [
    "dfaggt=df.groupby(['sentiment','Day'])['Tweet'].agg([\"count\"]).sort_values(by='count',ascending=True)\n",
    "dfaggt['count']"
   ]
  },
  {
   "cell_type": "code",
   "execution_count": 217,
   "id": "a4ea631e",
   "metadata": {},
   "outputs": [
    {
     "name": "stdout",
     "output_type": "stream",
     "text": [
      "<class 'pandas.core.frame.DataFrame'>\n",
      "Int64Index: 9201 entries, 0 to 9378\n",
      "Data columns (total 7 columns):\n",
      " #   Column     Non-Null Count  Dtype  \n",
      "---  ------     --------------  -----  \n",
      " 0   tweetid    9201 non-null   object \n",
      " 1   Date       9201 non-null   object \n",
      " 2   Year       9201 non-null   float64\n",
      " 3   Month      9201 non-null   float64\n",
      " 4   Day        9201 non-null   object \n",
      " 5   Tweet      9201 non-null   object \n",
      " 6   sentiment  9201 non-null   int64  \n",
      "dtypes: float64(2), int64(1), object(4)\n",
      "memory usage: 833.1+ KB\n"
     ]
    }
   ],
   "source": [
    "df.info()"
   ]
  },
  {
   "cell_type": "code",
   "execution_count": 218,
   "id": "556f7246",
   "metadata": {},
   "outputs": [],
   "source": [
    "import seaborn as sns"
   ]
  },
  {
   "cell_type": "code",
   "execution_count": 219,
   "id": "fa7250c1",
   "metadata": {},
   "outputs": [
    {
     "data": {
      "image/png": "[encoded data removed]",
      "text/plain": [
       "<Figure size 1008x720 with 1 Axes>"
      ]
     },
     "metadata": {},
     "output_type": "display_data"
    }
   ],
   "source": [
    "#Plot showing Weekly tweets based on sentiments\n",
    "\n",
    "sns.set_style('darkgrid') #usage of seaborn library set the style\n",
    "sns.set(rc={'figure.figsize':(14,10)}) #usage of seaborn library set the figure size\n",
    "sns.color_palette(\"tab10\")#usage of seaborn library set the color palette\n",
    "ax = sns.countplot(data=df, x ='Day',\n",
    "                  hue='sentiment', lw=3) # Draw the plot\n",
    "\n",
    "plt.legend(bbox_to_anchor=(1, 1)) # Set the legends \n",
    "plt.ylabel('Counts (Tweets)') # Y label\n",
    "plt.xlabel('Weekday') # X label\n",
    "plt.title('Fig : Weekday Tweet Counts for each sentiment') # Set the title\n",
    "plt.show() # Display the plot"
   ]
  },
  {
   "cell_type": "code",
   "execution_count": 220,
   "id": "e3fd74ce",
   "metadata": {},
   "outputs": [
    {
     "data": {
      "image/png": "[encoded data removed]",
      "text/plain": [
       "<Figure size 1008x720 with 1 Axes>"
      ]
     },
     "metadata": {},
     "output_type": "display_data"
    }
   ],
   "source": [
    "#Plot showing Weekly tweets based on sentiments\n",
    "\n",
    "sns.set_style('darkgrid') #usage of seaborn library set the style\n",
    "sns.set(rc={'figure.figsize':(14,10)}) #usage of seaborn library set the figure size\n",
    "sns.color_palette(\"tab10\")#usage of seaborn library set the color palette\n",
    "ax = sns.countplot(data=df, x ='Month',\n",
    "                  hue='sentiment', lw=3) # Draw the plot\n",
    "\n",
    "plt.legend(bbox_to_anchor=(1, 1)) # Set the legends \n",
    "plt.ylabel('Counts (Tweets)') # Y label\n",
    "plt.xlabel('Month') # X label\n",
    "plt.title('Fig : Monthwise Tweet Counts for each sentiment') # Set the title\n",
    "plt.show() # Display the plot"
   ]
  },
  {
   "cell_type": "code",
   "execution_count": 221,
   "id": "ecb09e65",
   "metadata": {},
   "outputs": [
    {
     "data": {
      "text/plain": [
       "<AxesSubplot:xlabel='sentiment', ylabel='count'>"
      ]
     },
     "execution_count": 221,
     "metadata": {},
     "output_type": "execute_result"
    },
    {
     "data": {
      "image/png": "[encoded data removed]",
      "text/plain": [
       "<Figure size 1008x720 with 1 Axes>"
      ]
     },
     "metadata": {},
     "output_type": "display_data"
    }
   ],
   "source": [
    "sns.set_style('whitegrid')\n",
    "sns.countplot(x='sentiment',data=df, palette='YlGnBu_r')"
   ]
  },
  {
   "cell_type": "code",
   "execution_count": 222,
   "id": "81810d1c",
   "metadata": {},
   "outputs": [],
   "source": [
    "df['sentiment_text'] = df['sentiment'].apply(lambda x: 'Positive' if x ==1 else('Neutral' if x == 2  else 'Negative'))"
   ]
  },
  {
   "cell_type": "code",
   "execution_count": 223,
   "id": "40f76777",
   "metadata": {
    "scrolled": true
   },
   "outputs": [
    {
     "data": {
      "text/html": [
       "<div>\n",
       "<style scoped>\n",
       "    .dataframe tbody tr th:only-of-type {\n",
       "        vertical-align: middle;\n",
       "    }\n",
       "\n",
       "    .dataframe tbody tr th {\n",
       "        vertical-align: top;\n",
       "    }\n",
       "\n",
       "    .dataframe thead th {\n",
       "        text-align: right;\n",
       "    }\n",
       "</style>\n",
       "<table border=\"1\" class=\"dataframe\">\n",
       "  <thead>\n",
       "    <tr style=\"text-align: right;\">\n",
       "      <th></th>\n",
       "      <th>tweetid</th>\n",
       "      <th>Date</th>\n",
       "      <th>Year</th>\n",
       "      <th>Month</th>\n",
       "      <th>Day</th>\n",
       "      <th>Tweet</th>\n",
       "      <th>sentiment</th>\n",
       "      <th>sentiment_text</th>\n",
       "    </tr>\n",
       "  </thead>\n",
       "  <tbody>\n",
       "    <tr>\n",
       "      <th>0</th>\n",
       "      <td>1282939902531790000</td>\n",
       "      <td>14/07/2020</td>\n",
       "      <td>2020.0</td>\n",
       "      <td>7.0</td>\n",
       "      <td>Tuesday</td>\n",
       "      <td>Cute</td>\n",
       "      <td>1</td>\n",
       "      <td>Positive</td>\n",
       "    </tr>\n",
       "    <tr>\n",
       "      <th>1</th>\n",
       "      <td>1282844872571900000</td>\n",
       "      <td>14/07/2020</td>\n",
       "      <td>2020.0</td>\n",
       "      <td>7.0</td>\n",
       "      <td>Tuesday</td>\n",
       "      <td>Wow</td>\n",
       "      <td>1</td>\n",
       "      <td>Positive</td>\n",
       "    </tr>\n",
       "    <tr>\n",
       "      <th>2</th>\n",
       "      <td>1282805559834490000</td>\n",
       "      <td>13/07/2020</td>\n",
       "      <td>2020.0</td>\n",
       "      <td>7.0</td>\n",
       "      <td>Monday</td>\n",
       "      <td>Reusability essential rocket single use absurd...</td>\n",
       "      <td>0</td>\n",
       "      <td>Negative</td>\n",
       "    </tr>\n",
       "    <tr>\n",
       "      <th>3</th>\n",
       "      <td>1282800187308570000</td>\n",
       "      <td>13/07/2020</td>\n",
       "      <td>2020.0</td>\n",
       "      <td>7.0</td>\n",
       "      <td>Monday</td>\n",
       "      <td>Wild times</td>\n",
       "      <td>2</td>\n",
       "      <td>Neutral</td>\n",
       "    </tr>\n",
       "    <tr>\n",
       "      <th>4</th>\n",
       "      <td>1282800078000800000</td>\n",
       "      <td>13/07/2020</td>\n",
       "      <td>2020.0</td>\n",
       "      <td>7.0</td>\n",
       "      <td>Monday</td>\n",
       "      <td>We’re extra paranoid Maximizing probability su...</td>\n",
       "      <td>1</td>\n",
       "      <td>Positive</td>\n",
       "    </tr>\n",
       "  </tbody>\n",
       "</table>\n",
       "</div>"
      ],
      "text/plain": [
       "               tweetid        Date    Year  Month      Day  \\\n",
       "0  1282939902531790000  14/07/2020  2020.0    7.0  Tuesday   \n",
       "1  1282844872571900000  14/07/2020  2020.0    7.0  Tuesday   \n",
       "2  1282805559834490000  13/07/2020  2020.0    7.0   Monday   \n",
       "3  1282800187308570000  13/07/2020  2020.0    7.0   Monday   \n",
       "4  1282800078000800000  13/07/2020  2020.0    7.0   Monday   \n",
       "\n",
       "                                               Tweet  sentiment sentiment_text  \n",
       "0                                               Cute          1       Positive  \n",
       "1                                                Wow          1       Positive  \n",
       "2  Reusability essential rocket single use absurd...          0       Negative  \n",
       "3                                         Wild times          2        Neutral  \n",
       "4  We’re extra paranoid Maximizing probability su...          1       Positive  "
      ]
     },
     "execution_count": 223,
     "metadata": {},
     "output_type": "execute_result"
    }
   ],
   "source": [
    "df.head()"
   ]
  },
  {
   "cell_type": "markdown",
   "id": "f99914d2",
   "metadata": {},
   "source": [
    "# Bag of Words using Count vectorizer"
   ]
  },
  {
   "cell_type": "code",
   "execution_count": 224,
   "id": "524d7ddf",
   "metadata": {},
   "outputs": [
    {
     "data": {
      "text/html": [
       "<div>\n",
       "<style scoped>\n",
       "    .dataframe tbody tr th:only-of-type {\n",
       "        vertical-align: middle;\n",
       "    }\n",
       "\n",
       "    .dataframe tbody tr th {\n",
       "        vertical-align: top;\n",
       "    }\n",
       "\n",
       "    .dataframe thead th {\n",
       "        text-align: right;\n",
       "    }\n",
       "</style>\n",
       "<table border=\"1\" class=\"dataframe\">\n",
       "  <thead>\n",
       "    <tr style=\"text-align: right;\">\n",
       "      <th></th>\n",
       "      <th>tweetid</th>\n",
       "      <th>Date</th>\n",
       "      <th>Year</th>\n",
       "      <th>Month</th>\n",
       "      <th>Day</th>\n",
       "      <th>Tweet</th>\n",
       "      <th>sentiment</th>\n",
       "      <th>sentiment_text</th>\n",
       "    </tr>\n",
       "  </thead>\n",
       "  <tbody>\n",
       "  </tbody>\n",
       "</table>\n",
       "</div>"
      ],
      "text/plain": [
       "Empty DataFrame\n",
       "Columns: [tweetid, Date, Year, Month, Day, Tweet, sentiment, sentiment_text]\n",
       "Index: []"
      ]
     },
     "execution_count": 224,
     "metadata": {},
     "output_type": "execute_result"
    }
   ],
   "source": [
    "nan_rows = df[df['Tweet'].isnull()]\n",
    "nan_rows"
   ]
  },
  {
   "cell_type": "code",
   "execution_count": 225,
   "id": "6d006425",
   "metadata": {},
   "outputs": [],
   "source": [
    "df = df.dropna()"
   ]
  },
  {
   "cell_type": "code",
   "execution_count": 226,
   "id": "f941f9f3",
   "metadata": {},
   "outputs": [
    {
     "data": {
      "text/html": [
       "<div>\n",
       "<style scoped>\n",
       "    .dataframe tbody tr th:only-of-type {\n",
       "        vertical-align: middle;\n",
       "    }\n",
       "\n",
       "    .dataframe tbody tr th {\n",
       "        vertical-align: top;\n",
       "    }\n",
       "\n",
       "    .dataframe thead th {\n",
       "        text-align: right;\n",
       "    }\n",
       "</style>\n",
       "<table border=\"1\" class=\"dataframe\">\n",
       "  <thead>\n",
       "    <tr style=\"text-align: right;\">\n",
       "      <th></th>\n",
       "      <th>tweetid</th>\n",
       "      <th>Date</th>\n",
       "      <th>Year</th>\n",
       "      <th>Month</th>\n",
       "      <th>Day</th>\n",
       "      <th>Tweet</th>\n",
       "      <th>sentiment</th>\n",
       "      <th>sentiment_text</th>\n",
       "    </tr>\n",
       "  </thead>\n",
       "  <tbody>\n",
       "  </tbody>\n",
       "</table>\n",
       "</div>"
      ],
      "text/plain": [
       "Empty DataFrame\n",
       "Columns: [tweetid, Date, Year, Month, Day, Tweet, sentiment, sentiment_text]\n",
       "Index: []"
      ]
     },
     "execution_count": 226,
     "metadata": {},
     "output_type": "execute_result"
    }
   ],
   "source": [
    "nan_rows = df[df['Tweet'].isnull()]\n",
    "nan_rows"
   ]
  },
  {
   "cell_type": "code",
   "execution_count": 251,
   "id": "a52a5699",
   "metadata": {},
   "outputs": [
    {
     "data": {
      "text/plain": [
       "(9201, 3000)"
      ]
     },
     "execution_count": 251,
     "metadata": {},
     "output_type": "execute_result"
    }
   ],
   "source": [
    "#Apply Count Vectorizer\n",
    "from sklearn.feature_extraction.text import CountVectorizer\n",
    "\n",
    "# Instantiate an object cv by calling a method named as CountVectorzer()\n",
    "cv    = CountVectorizer(max_features = 3000, stop_words = ['tesla', 'unit','car','space'])\n",
    "\n",
    "# Train the dataset by calling a fit_transform() method\n",
    "X_fin = cv.fit_transform(df['Tweet']).toarray()\n",
    "\n",
    "# Display the rows and colums\n",
    "X_fin.shape"
   ]
  },
  {
   "cell_type": "code",
   "execution_count": 252,
   "id": "0049c1d0",
   "metadata": {},
   "outputs": [],
   "source": [
    "from sklearn.model_selection import train_test_split\n",
    "\n",
    "X = df['Tweet'].values\n",
    "y = df['sentiment'].values\n",
    "X_train, X_test, y_train, y_test = train_test_split(X_fin, y, test_size=0.30, random_state=42)\n"
   ]
  },
  {
   "cell_type": "code",
   "execution_count": 254,
   "id": "8818e58c",
   "metadata": {},
   "outputs": [
    {
     "data": {
      "text/plain": [
       "(6440, 3000)"
      ]
     },
     "execution_count": 254,
     "metadata": {},
     "output_type": "execute_result"
    }
   ],
   "source": [
    "X_train.shape"
   ]
  },
  {
   "cell_type": "code",
   "execution_count": 255,
   "id": "7fe3bbca",
   "metadata": {},
   "outputs": [
    {
     "data": {
      "text/plain": [
       "(2761,)"
      ]
     },
     "execution_count": 255,
     "metadata": {},
     "output_type": "execute_result"
    }
   ],
   "source": [
    "y_test.shape"
   ]
  },
  {
   "cell_type": "code",
   "execution_count": 256,
   "id": "5afcf9bc",
   "metadata": {},
   "outputs": [],
   "source": [
    "tfidf = TfidfTransformer()\n",
    "X_train = tfidf.fit_transform(X_train)\n",
    "X_test = tfidf.transform(X_test)\n",
    "X_train = X_train.toarray()\n",
    "X_test = X_test.toarray()"
   ]
  },
  {
   "cell_type": "code",
   "execution_count": null,
   "id": "b5929309",
   "metadata": {},
   "outputs": [],
   "source": []
  },
  {
   "cell_type": "code",
   "execution_count": 257,
   "id": "02ce1bc0",
   "metadata": {},
   "outputs": [],
   "source": [
    "#Let us analyse sentiment using Multinomial NB\n",
    "#from sklearn.naive_bayes import MultinomialNB\n"
   ]
  },
  {
   "cell_type": "code",
   "execution_count": 258,
   "id": "4d8697d5",
   "metadata": {},
   "outputs": [],
   "source": [
    "#Let us analyse sentiment using Multinomial NB\n",
    "from sklearn.naive_bayes import MultinomialNB\n",
    "# Instantiate an object model by calling a method MultinomialNB()\n",
    "model = MultinomialNB()"
   ]
  },
  {
   "cell_type": "code",
   "execution_count": 259,
   "id": "c5e884ba",
   "metadata": {},
   "outputs": [
    {
     "data": {
      "text/plain": [
       "MultinomialNB()"
      ]
     },
     "execution_count": 259,
     "metadata": {},
     "output_type": "execute_result"
    }
   ],
   "source": [
    "# Train the model by calling a method fit()\n",
    "model.fit(X_train,y_train)"
   ]
  },
  {
   "cell_type": "code",
   "execution_count": 260,
   "id": "938d009e",
   "metadata": {},
   "outputs": [],
   "source": [
    "# Call predict() method\n",
    "y_pred = model.predict(X_test)\n",
    "y_pred2= model.predict(X_train)"
   ]
  },
  {
   "cell_type": "code",
   "execution_count": 261,
   "id": "f7b693e5",
   "metadata": {},
   "outputs": [
    {
     "name": "stdout",
     "output_type": "stream",
     "text": [
      "Train Scores:               precision    recall  f1-score   support\n",
      "\n",
      "           0       0.99      0.28      0.44       854\n",
      "           1       0.73      0.96      0.83      3126\n",
      "           2       0.84      0.72      0.78      2460\n",
      "\n",
      "    accuracy                           0.78      6440\n",
      "   macro avg       0.85      0.65      0.68      6440\n",
      "weighted avg       0.81      0.78      0.76      6440\n",
      "\n",
      "Test Scores:               precision    recall  f1-score   support\n",
      "\n",
      "           0       0.88      0.15      0.26       308\n",
      "           1       0.66      0.90      0.76      1363\n",
      "           2       0.75      0.58      0.65      1090\n",
      "\n",
      "    accuracy                           0.69      2761\n",
      "   macro avg       0.76      0.54      0.56      2761\n",
      "weighted avg       0.72      0.69      0.66      2761\n",
      "\n"
     ]
    }
   ],
   "source": [
    "from sklearn.metrics import classification_report\n",
    "\n",
    "# Instantiate a mthod named as Cla\n",
    "cf1 = classification_report(y_train, y_pred2)\n",
    "cf2 = classification_report(y_test, y_pred)\n",
    "\n",
    "# Display the values of an object cf\n",
    "print(\"Train Scores: \"+cf1)\n",
    "print(\"Test Scores: \"+cf2)"
   ]
  },
  {
   "cell_type": "code",
   "execution_count": 187,
   "id": "f58c8bdb",
   "metadata": {},
   "outputs": [],
   "source": [
    "#Import Libraries\n",
    "import tensorflow as tf\n",
    "from tensorflow.keras.models import Sequential\n",
    "from tensorflow.keras.layers import Dense, Activation, Dropout\n",
    "from tensorflow.keras.callbacks import EarlyStopping\n",
    "\n",
    "# Set the number of features we want\n",
    "number_of_features = 3000\n",
    "\n",
    "#Import Sequential Model from Keras\n",
    "model = Sequential()\n",
    "\n",
    "# Add Layers, we will use three hidden layers and an output layer\n",
    "model.add(Dense(units=1000,activation='relu',input_shape = (number_of_features,)))\n",
    "\n",
    "model.add(Dense(units=500,activation='relu'))\n",
    "\n",
    "model.add(Dense(units=500,activation='relu'))\n",
    "\n",
    "model.add(Dense(units=1, activation='softmax'))\n",
    "\n",
    "# Use of optimizers\n",
    "opt=tf.keras.optimizers.Adam(learning_rate=0.001)\n",
    "model.compile(loss='categorical_crossentropy', optimizer=opt, metrics=['accuracy'])\n",
    "\n",
    "#Early stop to stop epochs\n",
    "early_stop = EarlyStopping(monitor='val_loss', mode='min', verbose=1, patience=2)"
   ]
  },
  {
   "cell_type": "code",
   "execution_count": 188,
   "id": "223d0f33",
   "metadata": {},
   "outputs": [
    {
     "data": {
      "text/plain": [
       "(9201, 3000)"
      ]
     },
     "execution_count": 188,
     "metadata": {},
     "output_type": "execute_result"
    }
   ],
   "source": [
    "X_fin.shape"
   ]
  },
  {
   "cell_type": "code",
   "execution_count": 189,
   "id": "d6d30073",
   "metadata": {},
   "outputs": [
    {
     "name": "stdout",
     "output_type": "stream",
     "text": [
      "[2, 1, 0]\n"
     ]
    }
   ],
   "source": [
    "output = []\n",
    "for x in y_train:\n",
    "    if x not in output:\n",
    "        output.append(x)\n",
    "print(output)"
   ]
  },
  {
   "cell_type": "code",
   "execution_count": 192,
   "id": "b3fdd8d9",
   "metadata": {},
   "outputs": [],
   "source": [
    "model = Sequential()\n",
    "\n",
    "model.add(Dense(units=12673,activation='relu'))\n",
    "model.add(Dropout(0.5))\n",
    "\n",
    "model.add(Dense(units=4000,activation='relu'))\n",
    "model.add(Dropout(0.5))\n",
    "\n",
    "model.add(Dense(units=500,activation='relu'))\n",
    "model.add(Dropout(0.5))\n",
    "\n",
    "model.add(Dense(units=1, activation='softmax'))\n",
    "\n",
    "opt=tf.keras.optimizers.Adam(learning_rate=0.001)\n",
    "model.compile(loss='categorical_crossentropy', optimizer=opt, metrics=['accuracy'])\n",
    "\n",
    "#early_stop = EarlyStopping(monitor='val_loss', mode='min', verbose=1, patience=2)"
   ]
  },
  {
   "cell_type": "code",
   "execution_count": 193,
   "id": "161c191a",
   "metadata": {},
   "outputs": [
    {
     "name": "stdout",
     "output_type": "stream",
     "text": [
      "Epoch 1/100\n",
      "26/26 [==============================] - 37s 1s/step - loss: 0.0000e+00 - accuracy: 0.4854 - val_loss: 0.0000e+00 - val_accuracy: 0.4937\n",
      "Epoch 2/100\n",
      "26/26 [==============================] - 33s 1s/step - loss: 0.0000e+00 - accuracy: 0.4854 - val_loss: 0.0000e+00 - val_accuracy: 0.4937\n",
      "Epoch 3/100\n",
      "26/26 [==============================] - 31s 1s/step - loss: 0.0000e+00 - accuracy: 0.4854 - val_loss: 0.0000e+00 - val_accuracy: 0.4937\n",
      "Epoch 3: early stopping\n"
     ]
    },
    {
     "data": {
      "text/plain": [
       "<keras.callbacks.History at 0x280ac18a5b0>"
      ]
     },
     "execution_count": 193,
     "metadata": {},
     "output_type": "execute_result"
    }
   ],
   "source": [
    "model.fit(x=X_train, y=y_train, batch_size=256, epochs=100, validation_data=(X_test, y_test), verbose=1,callbacks=early_stop)"
   ]
  },
  {
   "cell_type": "code",
   "execution_count": null,
   "id": "f2164e16",
   "metadata": {},
   "outputs": [],
   "source": [
    "model.fit(x=X_train, y=y_train, batch_size=256, epochs=100, validation_data=(X_test, y_test), verbose=1, callbacks=early_stop)"
   ]
  },
  {
   "cell_type": "code",
   "execution_count": 157,
   "id": "fa80569e",
   "metadata": {},
   "outputs": [
    {
     "name": "stdout",
     "output_type": "stream",
     "text": [
      "44/44 [==============================] - 0s 8ms/step - loss: 0.0000e+00 - accuracy: 0.4937\n"
     ]
    }
   ],
   "source": [
    "#Evaluate the Model\n",
    "model_score = model.evaluate(X_test, y_test, batch_size=64, verbose=1)\n",
    "#print('Test accuracy:', model_score[1])"
   ]
  },
  {
   "cell_type": "code",
   "execution_count": 161,
   "id": "22d1467b",
   "metadata": {},
   "outputs": [
    {
     "name": "stdout",
     "output_type": "stream",
     "text": [
      "87/87 [==============================] - 1s 8ms/step\n"
     ]
    },
    {
     "data": {
      "text/plain": [
       "array([[1.],\n",
       "       [1.],\n",
       "       [1.],\n",
       "       ...,\n",
       "       [1.],\n",
       "       [1.],\n",
       "       [1.]], dtype=float32)"
      ]
     },
     "execution_count": 161,
     "metadata": {},
     "output_type": "execute_result"
    }
   ],
   "source": [
    "preds = model.predict(X_test)\n",
    "preds"
   ]
  },
  {
   "cell_type": "code",
   "execution_count": 162,
   "id": "5d6964b4",
   "metadata": {},
   "outputs": [
    {
     "name": "stdout",
     "output_type": "stream",
     "text": [
      "[array([1.], dtype=float32)]\n"
     ]
    }
   ],
   "source": [
    "output = []\n",
    "for x in preds:\n",
    "    if x not in output:\n",
    "        output.append(x)\n",
    "print(output)"
   ]
  },
  {
   "cell_type": "code",
   "execution_count": 148,
   "id": "413ac201",
   "metadata": {},
   "outputs": [
    {
     "name": "stdout",
     "output_type": "stream",
     "text": [
      "202/202 [==============================] - 2s 8ms/step - loss: 0.0000e+00 - accuracy: 0.4854\n",
      "Training Accuracy: 48.54%\n",
      "\n",
      "87/87 [==============================] - 1s 9ms/step - loss: 0.0000e+00 - accuracy: 0.4937\n",
      "Testing Accuracy: 49.37%\n",
      "\n"
     ]
    }
   ],
   "source": [
    "scores = model.evaluate(X_train, y_train)\n",
    "print(\"Training Accuracy: %.2f%%\\n\" % (scores[1] * 100))\n",
    "\n",
    "scores = model.evaluate(X_test, y_test)\n",
    "print(\"Testing Accuracy: %.2f%%\\n\" % (scores[1] * 100))"
   ]
  },
  {
   "cell_type": "markdown",
   "id": "6776b1ae",
   "metadata": {},
   "source": [
    "Very less accuracy aroubd 49% let us apply hyperparameter  and see if we can improve the scores"
   ]
  },
  {
   "cell_type": "markdown",
   "id": "dfbb0d68",
   "metadata": {},
   "source": [
    "# Hyperparameter Tuning"
   ]
  },
  {
   "cell_type": "code",
   "execution_count": 195,
   "id": "6895891b",
   "metadata": {},
   "outputs": [],
   "source": [
    "from sklearn.pipeline import Pipeline\n",
    "from sklearn.feature_extraction.text import TfidfVectorizer\n",
    "from sklearn.model_selection import GridSearchCV\n",
    "from nltk.corpus import stopwords\n",
    "from sklearn.svm import SVC\n",
    "\n",
    "stop = stopwords.words('english')\n",
    "\n",
    "tfidf = TfidfVectorizer(strip_accents=None,\n",
    "                        lowercase=False,\n",
    "                        preprocessor=None)\n",
    "\n",
    "param_grid = [{'vect__ngram_range': [(1, 1)],\n",
    "               'vect__stop_words': [stop, None]\n",
    "              },\n",
    "              {'vect__ngram_range': [(1, 1)],\n",
    "               'vect__stop_words': [stop, None],\n",
    "              'vect__use_idf':[False],\n",
    "               'vect__norm':[None]\n",
    "              },\n",
    "              ]\n",
    "\n",
    "lr_tfidf = Pipeline([('vect', tfidf),\n",
    "                     (('svc', SVC()))])\n",
    "\n",
    "gs_lr_tfidf = GridSearchCV(lr_tfidf, param_grid,\n",
    "                           scoring='accuracy',\n",
    "                           cv=5,\n",
    "                           verbose=1,\n",
    "                           n_jobs=-1)"
   ]
  },
  {
   "cell_type": "code",
   "execution_count": 37,
   "id": "2d65ed25",
   "metadata": {},
   "outputs": [
    {
     "data": {
      "text/plain": [
       "array([[0, 0, 0, ..., 0, 0, 0],\n",
       "       [0, 0, 0, ..., 0, 0, 0],\n",
       "       [0, 0, 0, ..., 0, 0, 0],\n",
       "       ...,\n",
       "       [0, 0, 0, ..., 0, 0, 0],\n",
       "       [0, 0, 0, ..., 0, 0, 0],\n",
       "       [0, 0, 0, ..., 0, 0, 0]], dtype=int64)"
      ]
     },
     "execution_count": 37,
     "metadata": {},
     "output_type": "execute_result"
    }
   ],
   "source": [
    "X_fin"
   ]
  },
  {
   "cell_type": "code",
   "execution_count": 38,
   "id": "454e5a53",
   "metadata": {},
   "outputs": [],
   "source": [
    "from sklearn.model_selection import train_test_split\n",
    "df['sentiment_text'] = df['sentiment'].apply(lambda x: 'Positive' if x ==1 else('Neutral' if x == 2  else 'Negative'))\n",
    "X = df['Tweet'].values\n",
    "y = df['sentiment_text'].values\n",
    "X_trainhp, X_testhp, y_trainhp, y_testhp = train_test_split(X, y, test_size=0.30, random_state=42)\n"
   ]
  },
  {
   "cell_type": "code",
   "execution_count": 39,
   "id": "aa838a03",
   "metadata": {},
   "outputs": [
    {
     "name": "stdout",
     "output_type": "stream",
     "text": [
      "Fitting 5 folds for each of 4 candidates, totalling 20 fits\n"
     ]
    },
    {
     "data": {
      "text/plain": [
       "GridSearchCV(cv=5,\n",
       "             estimator=Pipeline(steps=[('vect',\n",
       "                                        TfidfVectorizer(lowercase=False)),\n",
       "                                       ('svc', SVC())]),\n",
       "             n_jobs=-1,\n",
       "             param_grid=[{'vect__ngram_range': [(1, 1)],\n",
       "                          'vect__stop_words': [['i', 'me', 'my', 'myself', 'we',\n",
       "                                                'our', 'ours', 'ourselves',\n",
       "                                                'you', \"you're\", \"you've\",\n",
       "                                                \"you'll\", \"you'd\", 'your',\n",
       "                                                'yours', 'yourself',\n",
       "                                                'yourselves', 'he', 'him',\n",
       "                                                'his', 'himself', 'she',\n",
       "                                                \"she's\", 'h...\n",
       "                         {'vect__ngram_range': [(1, 1)], 'vect__norm': [None],\n",
       "                          'vect__stop_words': [['i', 'me', 'my', 'myself', 'we',\n",
       "                                                'our', 'ours', 'ourselves',\n",
       "                                                'you', \"you're\", \"you've\",\n",
       "                                                \"you'll\", \"you'd\", 'your',\n",
       "                                                'yours', 'yourself',\n",
       "                                                'yourselves', 'he', 'him',\n",
       "                                                'his', 'himself', 'she',\n",
       "                                                \"she's\", 'her', 'hers',\n",
       "                                                'herself', 'it', \"it's\", 'its',\n",
       "                                                'itself', ...],\n",
       "                                               None],\n",
       "                          'vect__use_idf': [False]}],\n",
       "             scoring='accuracy', verbose=1)"
      ]
     },
     "execution_count": 39,
     "metadata": {},
     "output_type": "execute_result"
    }
   ],
   "source": [
    "gs_lr_tfidf.fit(X_trainhp, y_trainhp)"
   ]
  },
  {
   "cell_type": "code",
   "execution_count": 41,
   "id": "d1d22978",
   "metadata": {},
   "outputs": [
    {
     "name": "stdout",
     "output_type": "stream",
     "text": [
      "Best parameter set: {'vect__ngram_range': (1, 1), 'vect__stop_words': ['i', 'me', 'my', 'myself', 'we', 'our', 'ours', 'ourselves', 'you', \"you're\", \"you've\", \"you'll\", \"you'd\", 'your', 'yours', 'yourself', 'yourselves', 'he', 'him', 'his', 'himself', 'she', \"she's\", 'her', 'hers', 'herself', 'it', \"it's\", 'its', 'itself', 'they', 'them', 'their', 'theirs', 'themselves', 'what', 'which', 'who', 'whom', 'this', 'that', \"that'll\", 'these', 'those', 'am', 'is', 'are', 'was', 'were', 'be', 'been', 'being', 'have', 'has', 'had', 'having', 'do', 'does', 'did', 'doing', 'a', 'an', 'the', 'and', 'but', 'if', 'or', 'because', 'as', 'until', 'while', 'of', 'at', 'by', 'for', 'with', 'about', 'against', 'between', 'into', 'through', 'during', 'before', 'after', 'above', 'below', 'to', 'from', 'up', 'down', 'in', 'out', 'on', 'off', 'over', 'under', 'again', 'further', 'then', 'once', 'here', 'there', 'when', 'where', 'why', 'how', 'all', 'any', 'both', 'each', 'few', 'more', 'most', 'other', 'some', 'such', 'no', 'nor', 'not', 'only', 'own', 'same', 'so', 'than', 'too', 'very', 's', 't', 'can', 'will', 'just', 'don', \"don't\", 'should', \"should've\", 'now', 'd', 'll', 'm', 'o', 're', 've', 'y', 'ain', 'aren', \"aren't\", 'couldn', \"couldn't\", 'didn', \"didn't\", 'doesn', \"doesn't\", 'hadn', \"hadn't\", 'hasn', \"hasn't\", 'haven', \"haven't\", 'isn', \"isn't\", 'ma', 'mightn', \"mightn't\", 'mustn', \"mustn't\", 'needn', \"needn't\", 'shan', \"shan't\", 'shouldn', \"shouldn't\", 'wasn', \"wasn't\", 'weren', \"weren't\", 'won', \"won't\", 'wouldn', \"wouldn't\"]} \n",
      "CV Accuracy: 0.774\n",
      "Test Accuracy: 0.791\n"
     ]
    }
   ],
   "source": [
    "print('Best parameter set: %s ' % gs_lr_tfidf.best_params_)\n",
    "print('CV Accuracy: %.3f' % gs_lr_tfidf.best_score_)\n",
    "clf = gs_lr_tfidf.best_estimator_\n",
    "print('Test Accuracy: %.3f' % clf.score(X_testhp, y_testhp))"
   ]
  },
  {
   "cell_type": "markdown",
   "id": "9713529a",
   "metadata": {},
   "source": [
    "# Booster Algorithm"
   ]
  },
  {
   "cell_type": "code",
   "execution_count": 43,
   "id": "a414085e",
   "metadata": {},
   "outputs": [],
   "source": [
    "import lightgbm as lgb\n",
    "import pandas as pd\n",
    "import numpy as np\n",
    "from sklearn.model_selection import train_test_split\n",
    "from sklearn import metrics"
   ]
  },
  {
   "cell_type": "code",
   "execution_count": 44,
   "id": "b30c9a5d",
   "metadata": {},
   "outputs": [],
   "source": [
    "X = df['Tweet'].values\n",
    "y = df['sentiment'].values\n",
    "X_train, X_test, y_train, y_test = train_test_split(X_fin, y, test_size=0.30, random_state=42)\n"
   ]
  },
  {
   "cell_type": "code",
   "execution_count": 45,
   "id": "ae2a38c6",
   "metadata": {},
   "outputs": [
    {
     "name": "stdout",
     "output_type": "stream",
     "text": [
      "[20]\ttraining's multi_logloss: 0.589398\tvalid_0's multi_logloss: 0.598815\n",
      "[40]\ttraining's multi_logloss: 0.512202\tvalid_0's multi_logloss: 0.550008\n",
      "[60]\ttraining's multi_logloss: 0.476293\tvalid_0's multi_logloss: 0.540309\n",
      "[80]\ttraining's multi_logloss: 0.45293\tvalid_0's multi_logloss: 0.541881\n",
      "[100]\ttraining's multi_logloss: 0.435169\tvalid_0's multi_logloss: 0.545207\n"
     ]
    },
    {
     "data": {
      "text/plain": [
       "LGBMClassifier(random_state=42)"
      ]
     },
     "execution_count": 45,
     "metadata": {},
     "output_type": "execute_result"
    }
   ],
   "source": [
    "model = lgb.LGBMClassifier(random_state=42)\n",
    "model.fit(X_train,y_train,eval_set=[(X_test,y_test),(X_train,y_train)],\n",
    "          verbose=20)"
   ]
  },
  {
   "cell_type": "code",
   "execution_count": 46,
   "id": "53237909",
   "metadata": {},
   "outputs": [
    {
     "name": "stdout",
     "output_type": "stream",
     "text": [
      "Training accuracy 0.8526\n",
      "Testing accuracy 0.8015\n"
     ]
    }
   ],
   "source": [
    "print('Training accuracy {:.4f}'.format(model.score(X_train,y_train)))\n",
    "print('Testing accuracy {:.4f}'.format(model.score(X_test,y_test)))"
   ]
  },
  {
   "cell_type": "markdown",
   "id": "e5ae3486",
   "metadata": {},
   "source": [
    "# Applying one hot encoding to see if the performance improves"
   ]
  },
  {
   "cell_type": "code",
   "execution_count": 47,
   "id": "a3df6c02",
   "metadata": {},
   "outputs": [
    {
     "data": {
      "text/html": [
       "<div>\n",
       "<style scoped>\n",
       "    .dataframe tbody tr th:only-of-type {\n",
       "        vertical-align: middle;\n",
       "    }\n",
       "\n",
       "    .dataframe tbody tr th {\n",
       "        vertical-align: top;\n",
       "    }\n",
       "\n",
       "    .dataframe thead th {\n",
       "        text-align: right;\n",
       "    }\n",
       "</style>\n",
       "<table border=\"1\" class=\"dataframe\">\n",
       "  <thead>\n",
       "    <tr style=\"text-align: right;\">\n",
       "      <th></th>\n",
       "      <th>tweetid</th>\n",
       "      <th>Date</th>\n",
       "      <th>Year</th>\n",
       "      <th>Month</th>\n",
       "      <th>Day</th>\n",
       "      <th>Tweet</th>\n",
       "      <th>sentiment</th>\n",
       "      <th>Negative</th>\n",
       "      <th>Neutral</th>\n",
       "      <th>Positive</th>\n",
       "    </tr>\n",
       "  </thead>\n",
       "  <tbody>\n",
       "    <tr>\n",
       "      <th>0</th>\n",
       "      <td>1282939902531790000</td>\n",
       "      <td>14/07/2020</td>\n",
       "      <td>2020.0</td>\n",
       "      <td>7.0</td>\n",
       "      <td>Tuesday</td>\n",
       "      <td>Cute</td>\n",
       "      <td>1</td>\n",
       "      <td>0</td>\n",
       "      <td>0</td>\n",
       "      <td>1</td>\n",
       "    </tr>\n",
       "    <tr>\n",
       "      <th>1</th>\n",
       "      <td>1282844872571900000</td>\n",
       "      <td>14/07/2020</td>\n",
       "      <td>2020.0</td>\n",
       "      <td>7.0</td>\n",
       "      <td>Tuesday</td>\n",
       "      <td>Wow</td>\n",
       "      <td>1</td>\n",
       "      <td>0</td>\n",
       "      <td>0</td>\n",
       "      <td>1</td>\n",
       "    </tr>\n",
       "    <tr>\n",
       "      <th>2</th>\n",
       "      <td>1282805559834490000</td>\n",
       "      <td>13/07/2020</td>\n",
       "      <td>2020.0</td>\n",
       "      <td>7.0</td>\n",
       "      <td>Monday</td>\n",
       "      <td>Reusability essential rocket single use absurd...</td>\n",
       "      <td>0</td>\n",
       "      <td>1</td>\n",
       "      <td>0</td>\n",
       "      <td>0</td>\n",
       "    </tr>\n",
       "    <tr>\n",
       "      <th>3</th>\n",
       "      <td>1282800187308570000</td>\n",
       "      <td>13/07/2020</td>\n",
       "      <td>2020.0</td>\n",
       "      <td>7.0</td>\n",
       "      <td>Monday</td>\n",
       "      <td>Wild times</td>\n",
       "      <td>2</td>\n",
       "      <td>0</td>\n",
       "      <td>1</td>\n",
       "      <td>0</td>\n",
       "    </tr>\n",
       "    <tr>\n",
       "      <th>4</th>\n",
       "      <td>1282800078000800000</td>\n",
       "      <td>13/07/2020</td>\n",
       "      <td>2020.0</td>\n",
       "      <td>7.0</td>\n",
       "      <td>Monday</td>\n",
       "      <td>We’re extra paranoid Maximizing probability su...</td>\n",
       "      <td>1</td>\n",
       "      <td>0</td>\n",
       "      <td>0</td>\n",
       "      <td>1</td>\n",
       "    </tr>\n",
       "  </tbody>\n",
       "</table>\n",
       "</div>"
      ],
      "text/plain": [
       "               tweetid        Date    Year  Month      Day  \\\n",
       "0  1282939902531790000  14/07/2020  2020.0    7.0  Tuesday   \n",
       "1  1282844872571900000  14/07/2020  2020.0    7.0  Tuesday   \n",
       "2  1282805559834490000  13/07/2020  2020.0    7.0   Monday   \n",
       "3  1282800187308570000  13/07/2020  2020.0    7.0   Monday   \n",
       "4  1282800078000800000  13/07/2020  2020.0    7.0   Monday   \n",
       "\n",
       "                                               Tweet  sentiment  Negative  \\\n",
       "0                                               Cute          1         0   \n",
       "1                                                Wow          1         0   \n",
       "2  Reusability essential rocket single use absurd...          0         1   \n",
       "3                                         Wild times          2         0   \n",
       "4  We’re extra paranoid Maximizing probability su...          1         0   \n",
       "\n",
       "   Neutral  Positive  \n",
       "0        0         1  \n",
       "1        0         1  \n",
       "2        0         0  \n",
       "3        1         0  \n",
       "4        0         1  "
      ]
     },
     "execution_count": 47,
     "metadata": {},
     "output_type": "execute_result"
    }
   ],
   "source": [
    "one_hot = pd.get_dummies(df[\"sentiment_text\"])\n",
    "df.drop(['sentiment_text'],axis=1,inplace=True)\n",
    "df = pd.concat([df,one_hot],axis=1)\n",
    "df.head()"
   ]
  },
  {
   "cell_type": "code",
   "execution_count": 48,
   "id": "c7bdc70a",
   "metadata": {},
   "outputs": [],
   "source": [
    "y=df[['Negative','Neutral','Positive']]"
   ]
  },
  {
   "cell_type": "code",
   "execution_count": 49,
   "id": "76781b44",
   "metadata": {},
   "outputs": [
    {
     "data": {
      "text/plain": [
       "(9201, 3)"
      ]
     },
     "execution_count": 49,
     "metadata": {},
     "output_type": "execute_result"
    }
   ],
   "source": [
    "y.shape"
   ]
  },
  {
   "cell_type": "code",
   "execution_count": 50,
   "id": "d09ea0c0",
   "metadata": {},
   "outputs": [],
   "source": [
    "X_train, X_test, y_train, y_test = train_test_split(X_fin, y, test_size=0.30, random_state=42)"
   ]
  },
  {
   "cell_type": "code",
   "execution_count": 67,
   "id": "667d0c07",
   "metadata": {},
   "outputs": [],
   "source": [
    "import tensorflow as tf\n",
    "from tensorflow.keras.models import Sequential\n",
    "from tensorflow.keras.layers import Dense, Activation, Dropout\n",
    "from tensorflow.keras.callbacks import EarlyStopping\n",
    "\n",
    "model = Sequential()\n",
    "\n",
    "model.add(Dense(units=1000,activation='relu'))\n",
    "model.add(Dropout(0.5))\n",
    "\n",
    "model.add(Dense(units=500,activation='relu'))\n",
    "model.add(Dropout(0.5))\n",
    "\n",
    "#model.add(Dense(units=500,activation='relu'))\n",
    "#model.add(Dropout(0.5))\n",
    "\n",
    "model.add(Dense(units=3, activation='softmax'))\n",
    "\n",
    "opt=tf.keras.optimizers.Adam(learning_rate=0.001)\n",
    "model.compile(loss='categorical_crossentropy', optimizer=\"adam\", metrics=['accuracy'])\n",
    "\n",
    "early_stop = EarlyStopping(monitor='val_loss', mode='min', verbose=1, patience=2)"
   ]
  },
  {
   "cell_type": "code",
   "execution_count": 68,
   "id": "147cebea",
   "metadata": {},
   "outputs": [
    {
     "data": {
      "text/plain": [
       "(6440, 3)"
      ]
     },
     "execution_count": 68,
     "metadata": {},
     "output_type": "execute_result"
    }
   ],
   "source": [
    "y_train.shape"
   ]
  },
  {
   "cell_type": "code",
   "execution_count": 69,
   "id": "bae28d92",
   "metadata": {},
   "outputs": [
    {
     "name": "stdout",
     "output_type": "stream",
     "text": [
      "Epoch 1/10\n",
      "33/33 [==============================] - 2s 44ms/step - loss: 0.9131 - accuracy: 0.5953 - val_loss: 0.6537 - val_accuracy: 0.7776\n",
      "Epoch 2/10\n",
      "33/33 [==============================] - 1s 39ms/step - loss: 0.4354 - accuracy: 0.8469 - val_loss: 0.4508 - val_accuracy: 0.8392\n",
      "Epoch 3/10\n",
      "33/33 [==============================] - 1s 40ms/step - loss: 0.1747 - accuracy: 0.9469 - val_loss: 0.5108 - val_accuracy: 0.8424\n",
      "Epoch 4/10\n",
      "33/33 [==============================] - 1s 40ms/step - loss: 0.0911 - accuracy: 0.9780 - val_loss: 0.5125 - val_accuracy: 0.8504\n",
      "Epoch 5/10\n",
      "33/33 [==============================] - 1s 41ms/step - loss: 0.0551 - accuracy: 0.9876 - val_loss: 0.5699 - val_accuracy: 0.8493\n",
      "Epoch 6/10\n",
      "33/33 [==============================] - 1s 39ms/step - loss: 0.0445 - accuracy: 0.9898 - val_loss: 0.6198 - val_accuracy: 0.8486\n",
      "Epoch 7/10\n",
      "33/33 [==============================] - 1s 40ms/step - loss: 0.0361 - accuracy: 0.9921 - val_loss: 0.6656 - val_accuracy: 0.8435\n",
      "Epoch 8/10\n",
      "33/33 [==============================] - 1s 42ms/step - loss: 0.0319 - accuracy: 0.9925 - val_loss: 0.7045 - val_accuracy: 0.8450\n",
      "Epoch 9/10\n",
      "33/33 [==============================] - 1s 42ms/step - loss: 0.0276 - accuracy: 0.9941 - val_loss: 0.7443 - val_accuracy: 0.8421\n",
      "Epoch 10/10\n",
      "33/33 [==============================] - 1s 43ms/step - loss: 0.0262 - accuracy: 0.9950 - val_loss: 0.7619 - val_accuracy: 0.8450\n"
     ]
    }
   ],
   "source": [
    "history=model.fit(x=X_train, y=y_train, batch_size=200, epochs=10, validation_data=(X_test, y_test), verbose=1)"
   ]
  },
  {
   "cell_type": "code",
   "execution_count": 70,
   "id": "1f0050cc",
   "metadata": {},
   "outputs": [
    {
     "name": "stdout",
     "output_type": "stream",
     "text": [
      "87/87 [==============================] - 1s 6ms/step\n"
     ]
    },
    {
     "data": {
      "text/plain": [
       "array([[9.9761009e-01, 1.9327879e-07, 2.3896494e-03],\n",
       "       [1.0849488e-02, 9.7763455e-01, 1.1516033e-02],\n",
       "       [2.0823109e-06, 9.0812037e-12, 9.9999797e-01],\n",
       "       ...,\n",
       "       [3.1747273e-08, 3.6248532e-10, 1.0000000e+00],\n",
       "       [9.9821401e-01, 1.7466467e-04, 1.6113544e-03],\n",
       "       [6.1733806e-01, 4.4722434e-02, 3.3793950e-01]], dtype=float32)"
      ]
     },
     "execution_count": 70,
     "metadata": {},
     "output_type": "execute_result"
    }
   ],
   "source": [
    "preds = model.predict(X_test)\n",
    "preds"
   ]
  },
  {
   "cell_type": "code",
   "execution_count": 71,
   "id": "a7bd9c46",
   "metadata": {},
   "outputs": [
    {
     "name": "stdout",
     "output_type": "stream",
     "text": [
      "202/202 [==============================] - 1s 5ms/step\n"
     ]
    }
   ],
   "source": [
    "y_train_pred= model.predict(X_train)"
   ]
  },
  {
   "cell_type": "code",
   "execution_count": 72,
   "id": "ba69b515",
   "metadata": {},
   "outputs": [
    {
     "data": {
      "image/png": "[encoded data removed]",
      "text/plain": [
       "<Figure size 1008x720 with 1 Axes>"
      ]
     },
     "metadata": {},
     "output_type": "display_data"
    },
    {
     "name": "stdout",
     "output_type": "stream",
     "text": [
      "Accuracy :  [0.5953416228294373, 0.846894383430481, 0.9468944072723389, 0.9779503345489502, 0.9875776171684265, 0.9897515773773193, 0.9920807480812073, 0.992546558380127, 0.9940993785858154, 0.9950310587882996] [0.7776167988777161, 0.8391886949539185, 0.8424484133720398, 0.8504165410995483, 0.849329948425293, 0.8486055731773376, 0.8435349464416504, 0.844983696937561, 0.8420861959457397, 0.844983696937561]\n",
      "R2 :  0.9851469344756896 0.49997818001297195\n"
     ]
    }
   ],
   "source": [
    "from sklearn.metrics import r2_score\n",
    "\n",
    "# Get training and test loss histories\n",
    "training_loss = history.history[\"loss\"]\n",
    "test_loss = history.history[\"val_loss\"]\n",
    "\n",
    "# Create count of the number of epochs\n",
    "epoch_count = range(1, len(training_loss) + 1)\n",
    "\n",
    "# Get training and test accuracy histories\n",
    "an_training_accuracy = history.history[\"accuracy\"]\n",
    "an_test_accuracy = history.history[\"val_accuracy\"]\n",
    "\n",
    "R2_AN_train=r2_score(y_train, y_train_pred)\n",
    "R2_AN_test=r2_score(y_test,preds)\n",
    "\n",
    "plt.plot(epoch_count, an_training_accuracy, \"r--\")\n",
    "plt.plot(epoch_count, an_test_accuracy, \"b-\")\n",
    "\n",
    "# Visualize accuracy history\n",
    "plt.legend([\"Training Accuracy\", \"Test Accuracy\"])\n",
    "plt.xlabel(\"Epoch\")\n",
    "plt.ylabel(\"Accuracy Score\")\n",
    "plt.title(\"Fig: Visualise Accuracy History\",fontsize=18)\n",
    "\n",
    "plt.show();\n",
    "\n",
    "print('Accuracy : ',an_training_accuracy,an_test_accuracy)\n",
    "print('R2 : ',R2_AN_train,R2_AN_test)"
   ]
  },
  {
   "cell_type": "code",
   "execution_count": 73,
   "id": "0e6c867b",
   "metadata": {},
   "outputs": [
    {
     "name": "stdout",
     "output_type": "stream",
     "text": [
      "202/202 [==============================] - 1s 6ms/step - loss: 0.0210 - accuracy: 0.9952\n",
      "Training Accuracy: 99.52%\n",
      "\n",
      "87/87 [==============================] - 1s 7ms/step - loss: 0.7619 - accuracy: 0.8450\n",
      "Testing Accuracy: 84.50%\n",
      "\n"
     ]
    }
   ],
   "source": [
    "scores = model.evaluate(X_train, y_train)\n",
    "print(\"Training Accuracy: %.2f%%\\n\" % (scores[1] * 100))\n",
    "\n",
    "scores = model.evaluate(X_test, y_test)\n",
    "print(\"Testing Accuracy: %.2f%%\\n\" % (scores[1] * 100))"
   ]
  },
  {
   "cell_type": "markdown",
   "id": "9520a5d6",
   "metadata": {},
   "source": [
    "# Time Series Forecasting"
   ]
  },
  {
   "cell_type": "code",
   "execution_count": null,
   "id": "6e4bee19",
   "metadata": {},
   "outputs": [],
   "source": [
    "#Changethe Date field to pandas datetime\n",
    "df['Date'] = pd.to_datetime(df['Date'], format='%d/%m/%Y')"
   ]
  },
  {
   "cell_type": "code",
   "execution_count": null,
   "id": "94f9a271",
   "metadata": {},
   "outputs": [],
   "source": [
    "#Group by date and randomly take only one tweet per day\n",
    "df_timeseries=df.groupby('Date').apply(lambda x: x.sample(1)).reset_index(drop=True).sort_values(by='Date')"
   ]
  },
  {
   "cell_type": "code",
   "execution_count": null,
   "id": "cd75ae6f",
   "metadata": {},
   "outputs": [],
   "source": [
    "df_timeseries.info()"
   ]
  },
  {
   "cell_type": "code",
   "execution_count": null,
   "id": "309d7c76",
   "metadata": {},
   "outputs": [],
   "source": [
    "df_timeseries.head(20)"
   ]
  },
  {
   "cell_type": "code",
   "execution_count": null,
   "id": "295ec968",
   "metadata": {},
   "outputs": [],
   "source": [
    "df_timeseries=df_timeseries[['Date','sentiment']]\n"
   ]
  },
  {
   "cell_type": "code",
   "execution_count": null,
   "id": "04914a4c",
   "metadata": {},
   "outputs": [],
   "source": [
    "df_timeseries = df_timeseries.set_index('Date')\n",
    "df_timeseries.head(20)"
   ]
  },
  {
   "cell_type": "code",
   "execution_count": null,
   "id": "31dadf0e",
   "metadata": {},
   "outputs": [],
   "source": [
    "df_timeseries_daily = df_timeseries.asfreq('D','ffill')\n",
    "df_timeseries_daily = df_timeseries_daily.sort_index()\n",
    "df_timeseries_daily.head(20)"
   ]
  },
  {
   "cell_type": "code",
   "execution_count": null,
   "id": "fb4588b2",
   "metadata": {},
   "outputs": [],
   "source": [
    "# Time series data source: elonmusk tweets.\n",
    "import matplotlib.pyplot as plt\n",
    "\n",
    "# Draw Plot\n",
    "def plot_df(df_timeseries_daily, x, y, title=\"\", xlabel='Date', ylabel='sentiment', dpi=100):\n",
    "    plt.figure(figsize=(16,5), dpi=dpi)\n",
    "    plt.plot(x, y, color='tab:blue')\n",
    "    plt.gca().set(title=title, xlabel=xlabel, ylabel=ylabel)\n",
    "    plt.show()\n",
    "\n",
    "plot_df(df_timeseries_daily, x=df_timeseries_daily.index, y=df_timeseries_daily.sentiment, title='Daily tweet sentiment of Elon Musk') "
   ]
  },
  {
   "cell_type": "code",
   "execution_count": null,
   "id": "2c30f83f",
   "metadata": {},
   "outputs": [],
   "source": [
    "!pip install wordcloud"
   ]
  },
  {
   "cell_type": "code",
   "execution_count": null,
   "id": "6357b506",
   "metadata": {},
   "outputs": [],
   "source": [
    "print(f'Number of rows with missing values: {df.isnull().any(axis=1).mean()}')"
   ]
  },
  {
   "cell_type": "code",
   "execution_count": null,
   "id": "c510d5cc",
   "metadata": {},
   "outputs": [],
   "source": [
    "# we will clean up the NaN with the ffill and bfill function. ffill will fill the NA fields based on the value in previous row for the column, if the first field itself is not available it will fill then next fill using bfill\n",
    "\n",
    "#f_timeseries_daily=df_timeseries['sentiment'].ffill()\n",
    "\n"
   ]
  },
  {
   "cell_type": "code",
   "execution_count": null,
   "id": "4cd1ccc3",
   "metadata": {},
   "outputs": [],
   "source": [
    "df_timeseries_weekly = df_timeseries.asfreq('W','ffill')\n",
    "df_timeseries_weekly = df_timeseries_weekly.sort_index()\n",
    "df_timeseries_weekly.head(20)"
   ]
  },
  {
   "cell_type": "code",
   "execution_count": null,
   "id": "c08f792b",
   "metadata": {},
   "outputs": [],
   "source": [
    "df_timeseries_weeklydi=df_timeseries_weekly.reset_index()\n",
    "df_timeseries_weeklydi=df_timeseries_weeklydi.loc[df_timeseries_weeklydi['Date']>='2019-01-01']"
   ]
  },
  {
   "cell_type": "code",
   "execution_count": null,
   "id": "cbde6718",
   "metadata": {},
   "outputs": [],
   "source": [
    "# Time series data source: elonmusk tweets.\n",
    "import matplotlib.pyplot as plt\n",
    "df=df_timeseries_weekly\n",
    "\n",
    "#dflsraw.loc[dflsraw['YEAR']<2021]\n",
    "# Draw Plot\n",
    "def plot_df(df, x, y, title=\"\", xlabel='Date', ylabel='sentiment', dpi=100):\n",
    "    plt.figure(figsize=(16,5), dpi=dpi)\n",
    "    plt.plot(x, y, color='tab:blue')\n",
    "    plt.gca().set(title=title, xlabel=xlabel, ylabel=ylabel)\n",
    "    plt.show()\n",
    "\n",
    "plot_df(df, x=df.index, y=df.sentiment, title='Weekly tweet sentiment of Elon Musk') "
   ]
  },
  {
   "cell_type": "code",
   "execution_count": null,
   "id": "2ced5e2b",
   "metadata": {},
   "outputs": [],
   "source": [
    "df_timeseries_monthly = df_timeseries.asfreq('M','ffill')\n",
    "df_timeseries_monthly = df_timeseries_monthly.sort_index()\n",
    "df_timeseries_monthly.head(20)"
   ]
  },
  {
   "cell_type": "code",
   "execution_count": null,
   "id": "c59b441b",
   "metadata": {},
   "outputs": [],
   "source": [
    "df_timeseries_quarterly = df_timeseries.asfreq('Q','ffill')\n",
    "df_timeseries_quarterly = df_timeseries_quarterly.sort_index()\n",
    "df_timeseries_quarterly.head(20)"
   ]
  },
  {
   "cell_type": "code",
   "execution_count": null,
   "id": "201fd401",
   "metadata": {},
   "outputs": [],
   "source": [
    "sns.set()\n",
    "plt.ylabel('Sentiment')\n",
    "plt.xlabel('Date')\n",
    "plt.xticks(rotation=45)\n",
    "plt.plot(df_timeseries_monthly.index, df_timeseries_monthly['sentiment'] )\n",
    "plt.show()"
   ]
  },
  {
   "cell_type": "code",
   "execution_count": null,
   "id": "3e827251",
   "metadata": {},
   "outputs": [],
   "source": [
    "train = df_timeseries_monthly[df_timeseries_monthly.index < pd.to_datetime(\"2019-01-01\", format='%Y-%m-%d')]\n",
    "test = df_timeseries_monthly[df_timeseries_monthly.index >= pd.to_datetime(\"2019-01-01\", format='%Y-%m-%d')]\n",
    "test"
   ]
  },
  {
   "cell_type": "code",
   "execution_count": null,
   "id": "12fdae0d",
   "metadata": {},
   "outputs": [],
   "source": [
    "plt.plot(train, color = \"black\", label = 'Training')\n",
    "plt.plot(test, color = \"red\", label = 'Testing')\n",
    "plt.ylabel('Sentiment')\n",
    "plt.xlabel('Date')\n",
    "plt.xticks(rotation=45)\n",
    "plt.title(\"Train/Test split for Sentiment\")\n",
    "plt.show()"
   ]
  },
  {
   "cell_type": "code",
   "execution_count": null,
   "id": "29aaf934",
   "metadata": {},
   "outputs": [],
   "source": [
    "# Use Min Max Scaler for standardising the data\n",
    "#from sklearn.preprocessing import  MinMaxScaler\n",
    "#sc= MinMaxScaler()\n",
    "##X= sc.fit_transform(X)\n",
    "#y=df_timeseries_weekly['sentiment'].values\n",
    "#y= y.reshape(-1,1)\n",
    "#y=sc.fit_transform(y)\n",
    "#df_scaler=pd.DataFrame(y)\n",
    "#df_scaler"
   ]
  },
  {
   "cell_type": "code",
   "execution_count": null,
   "id": "c54f8258",
   "metadata": {},
   "outputs": [],
   "source": [
    "from statsmodels.tsa.arima.model import ARIMA \n",
    "from statsmodels.tsa.statespace.sarimax import SARIMAX\n",
    "y = train['sentiment']\n",
    "\n",
    "#ARIMA model\n",
    "# contrived dataset \n",
    "data =df_timeseries_weekly\n",
    "# fit model \n",
    "modela = ARIMA(y, order=(1,2,0)) \n",
    "modela_fit = modela.fit() \n",
    "# make prediction \n",
    "yhat = modela_fit.predict(len(data), len(data)) \n",
    "print(yhat)"
   ]
  },
  {
   "cell_type": "code",
   "execution_count": null,
   "id": "e64829d8",
   "metadata": {},
   "outputs": [],
   "source": [
    "#ARMA model\n",
    "y = train['sentiment']\n",
    "\n",
    "ARMAmodel = SARIMAX(y, order = (1, 0, 2))\n",
    "ARMAmodel = ARMAmodel.fit()\n",
    "\n",
    "y_pred = ARMAmodel.get_forecast(len(test.index))\n",
    "y_pred_df = y_pred.conf_int(alpha = 0.05) \n",
    "y_pred_df[\"Predictions\"] = ARMAmodel.predict(start = y_pred_df.index[0], \n",
    "                                             end = y_pred_df.index[-1])\n",
    "y_pred_df.index = test.index\n",
    "y_pred_outARMA = y_pred_df[\"Predictions\"] \n",
    "\n",
    "plt.plot(train, color = \"black\", label = 'Training')\n",
    "plt.plot(test, color = \"red\", label = 'Testing')\n",
    "plt.ylabel('sentiment')\n",
    "plt.xlabel('Date')\n",
    "plt.xticks(rotation=45)\n",
    "plt.title(\"Train test and Predictions for Tweet Sentiments\")\n",
    "plt.plot(y_pred_outARMA, color='green', label = 'ARMA Predictions')\n",
    "plt.legend()\n",
    "plt.show()"
   ]
  },
  {
   "cell_type": "code",
   "execution_count": null,
   "id": "dc3c1229",
   "metadata": {},
   "outputs": [],
   "source": [
    "import numpy as np\n",
    "from sklearn.metrics import mean_squared_error\n",
    "\n",
    "arma_rmse = np.sqrt(mean_squared_error(test[\"sentiment\"].values, y_pred_df[\"Predictions\"]))\n",
    "print(\"ARMA RMSE: \",arma_rmse)"
   ]
  },
  {
   "cell_type": "code",
   "execution_count": null,
   "id": "add3ae9d",
   "metadata": {},
   "outputs": [],
   "source": [
    "\n",
    "ARIMAmodel = SARIMAX(y, order = (5, 4, 2))\n",
    "ARIMAmodel = ARIMAmodel.fit()\n",
    "\n",
    "y_pred = ARIMAmodel.get_forecast(len(test.index))\n",
    "y_pred_df = y_pred.conf_int(alpha = 0.05) \n",
    "y_pred_df[\"Predictions\"] = ARIMAmodel.predict(start = y_pred_df.index[0],\n",
    "                                              end = y_pred_df.index[-1])\n",
    "y_pred_df.index = test.index\n",
    "y_pred_outARIMA = y_pred_df[\"Predictions\"]"
   ]
  },
  {
   "cell_type": "code",
   "execution_count": null,
   "id": "fca92a03",
   "metadata": {},
   "outputs": [],
   "source": [
    "plt.plot(train, color = \"black\", label = 'Training')\n",
    "plt.plot(test, color = \"red\", label = 'Testing')\n",
    "plt.ylabel('Sentiments')\n",
    "plt.xlabel('Date')\n",
    "plt.xticks(rotation=45)\n",
    "plt.title(\"Comparing different traditional timeseries forecasting models\")\n",
    "plt.plot(y_pred_outARMA, color='Blue', label = 'ARMA Predictions')\n",
    "plt.plot(y_pred_outARIMA, color='Yellow', label = 'ARIMA Predictions')\n",
    "plt.legend()\n",
    "plt.show()"
   ]
  },
  {
   "cell_type": "code",
   "execution_count": null,
   "id": "538c0be1",
   "metadata": {},
   "outputs": [],
   "source": [
    "def timeseries_pred(x):\n",
    "    data=x\n",
    "    train = data[data.index < pd.to_datetime(\"2019-01-01\", format='%Y-%m-%d')]\n",
    "    test = data[data.index >= pd.to_datetime(\"2019-01-01\", format='%Y-%m-%d')]\n",
    "    #ARMA model\n",
    "    y = train['sentiment']\n",
    "\n",
    "    ARMAmodel = SARIMAX(y, order = (1, 0, 2))\n",
    "    ARMAmodel = ARMAmodel.fit()\n",
    "\n",
    "    y_pred = ARMAmodel.get_forecast(len(test.index))\n",
    "    y_pred_df = y_pred.conf_int(alpha = 0.05) \n",
    "    y_pred_df[\"Predictions\"] = ARMAmodel.predict(start = y_pred_df.index[0], \n",
    "                                             end = y_pred_df.index[-1])\n",
    "    y_pred_df.index = test.index\n",
    "    y_pred_outARMA = y_pred_df[\"Predictions\"] \n",
    "\n",
    "    plt.plot(train, color = \"black\", label = 'Training')\n",
    "    plt.plot(test, color = \"red\", label = 'Testing')\n",
    "    plt.ylabel('sentiment')\n",
    "    plt.xlabel('Date')\n",
    "    plt.xticks(rotation=45)\n",
    "    plt.title(\"Train ,test and Predictions(ARMA) for Tweet Sentiments\")\n",
    "    plt.plot(y_pred_outARMA, color='green', label = 'ARMA Predictions')\n",
    "    plt.legend()\n",
    "    plt.show()\n",
    "    arma_rmse = np.sqrt(mean_squared_error(test[\"sentiment\"].values, y_pred_df[\"Predictions\"]))\n",
    "    print(\"ARMA RMSE: \",arma_rmse)\n",
    "    "
   ]
  },
  {
   "cell_type": "code",
   "execution_count": null,
   "id": "a3c03f72",
   "metadata": {},
   "outputs": [],
   "source": [
    "monthlypred_arma=timeseries_pred(df_timeseries_monthly)"
   ]
  },
  {
   "cell_type": "code",
   "execution_count": null,
   "id": "36a9f721",
   "metadata": {},
   "outputs": [],
   "source": [
    "weeklypred_arma=timeseries_pred(df_timeseries_weekly)"
   ]
  },
  {
   "cell_type": "code",
   "execution_count": null,
   "id": "26d00fd5",
   "metadata": {},
   "outputs": [],
   "source": [
    "weeklypred_arma=timeseries_pred(df_timeseries_quarterly)"
   ]
  },
  {
   "cell_type": "code",
   "execution_count": null,
   "id": "7511c5de",
   "metadata": {},
   "outputs": [],
   "source": [
    "print(f'Number of rows with missing values: {df_timeseries_daily.isnull().any(axis=1).mean()}')"
   ]
  },
  {
   "cell_type": "code",
   "execution_count": null,
   "id": "1ca26826",
   "metadata": {},
   "outputs": [],
   "source": [
    "train = df_timeseries_monthly[df_timeseries_monthly.index <= pd.to_datetime(\"2018-12-31\", format='%Y-%m-%d')]\n",
    "test = df_timeseries_monthly[df_timeseries_monthly.index >= pd.to_datetime(\"2019-01-01\", format='%Y-%m-%d')]\n",
    "test"
   ]
  },
  {
   "cell_type": "code",
   "execution_count": null,
   "id": "18b978cf",
   "metadata": {},
   "outputs": [],
   "source": [
    "print(f\"Train dates : {train.index.min()} --- {train.index.max()}  (n={len(train)})\")\n",
    "print(f\"Test dates  : {test.index.min()} --- {test.index.max()}  (n={len(test)})\")\n"
   ]
  },
  {
   "cell_type": "code",
   "execution_count": null,
   "id": "207ae617",
   "metadata": {},
   "outputs": [],
   "source": [
    "print(f\"Train dates : {train.index.min()} --- {train.index.max()}  (n={len(train)})\")\n",
    "print(f\"Test dates  : {test.index.min()} --- {test.index.max()}  (n={len(test)})\")\n",
    "\n",
    "fig, ax=plt.subplots(figsize=(9, 4))\n",
    "train['sentiment'].plot(ax=ax, label='train')\n",
    "test['sentiment'].plot(ax=ax, label='test')\n",
    "ax.legend();"
   ]
  },
  {
   "cell_type": "code",
   "execution_count": null,
   "id": "766a95d4",
   "metadata": {},
   "outputs": [],
   "source": [
    "from skforecast.ForecasterAutoreg import ForecasterAutoreg\n",
    "from sklearn.ensemble import RandomForestClassifier\n",
    "# Create and train forecaster\n",
    "# ==============================================================================\n",
    "forecaster = ForecasterAutoreg(\n",
    "                regressor = RandomForestClassifier(random_state=123),\n",
    "                lags = 10\n",
    "                )\n",
    "\n",
    "forecaster.fit(y=train['sentiment'])\n",
    "forecaster"
   ]
  },
  {
   "cell_type": "code",
   "execution_count": null,
   "id": "e664666b",
   "metadata": {},
   "outputs": [],
   "source": [
    "train['sentiment']"
   ]
  },
  {
   "cell_type": "code",
   "execution_count": null,
   "id": "3661279e",
   "metadata": {},
   "outputs": [],
   "source": [
    "# Predictions\n",
    "# ==============================================================================\n",
    "steps = 18\n",
    "predictions = forecaster.predict(steps=steps)\n",
    "predictions.unique()"
   ]
  },
  {
   "cell_type": "code",
   "execution_count": null,
   "id": "bc99ac91",
   "metadata": {},
   "outputs": [],
   "source": [
    "# Plot\n",
    "# ==============================================================================\n",
    "fig, ax = plt.subplots(figsize=(9, 4))\n",
    "train['sentiment'].plot(ax=ax, label='train')\n",
    "test['sentiment'].plot(ax=ax, label='test')\n",
    "predictions.plot(ax=ax, label='predictions',color='black')\n",
    "ax.legend();"
   ]
  },
  {
   "cell_type": "code",
   "execution_count": null,
   "id": "89ea5d1c",
   "metadata": {},
   "outputs": [],
   "source": [
    "# Test error\n",
    "# ==============================================================================\n",
    "error_mse = mean_squared_error(\n",
    "                y_true = test['sentiment'],\n",
    "                y_pred = predictions\n",
    "            )\n",
    "\n",
    "print(f\"Test error (mse): {error_mse}\")"
   ]
  },
  {
   "cell_type": "code",
   "execution_count": null,
   "id": "6f369610",
   "metadata": {},
   "outputs": [],
   "source": [
    "#!pip install pyts --user\n",
    "#pip install \n",
    "#from pyts.classification import BOSSVS"
   ]
  },
  {
   "cell_type": "code",
   "execution_count": null,
   "id": "3ee3e998",
   "metadata": {},
   "outputs": [],
   "source": [
    "#from pyts.classification import BOSSVS"
   ]
  },
  {
   "cell_type": "code",
   "execution_count": null,
   "id": "6f334956",
   "metadata": {},
   "outputs": [],
   "source": [
    "#clf = BOSSVS(window_size=28)\n",
    "#train=train.reset_index()\n",
    "#clf.fit(train['Date'],train['sentiment'])"
   ]
  },
  {
   "cell_type": "code",
   "execution_count": null,
   "id": "6b72a4f8",
   "metadata": {},
   "outputs": [],
   "source": [
    "#train"
   ]
  },
  {
   "cell_type": "code",
   "execution_count": null,
   "id": "0b8394a8",
   "metadata": {},
   "outputs": [],
   "source": [
    "#df_timeseries_dailyri=df_timeseries_daily.reset_index()\n",
    "#X = df_timeseries_dailyri['Date'].values\n",
    "#y = df_timeseries_dailyri['sentiment'].values\n",
    "#X_train, X_test, y_train, y_test = train_test_split(X, y, test_size=0.30, random_state=42)"
   ]
  },
  {
   "cell_type": "code",
   "execution_count": null,
   "id": "997987a2",
   "metadata": {},
   "outputs": [],
   "source": [
    "#clf = BOSSVS(word_size=1,window_size=1)\n",
    "##train=train.reset_index()\n",
    "#X_train=X_train.reshape(-1,1)\n",
    "##y_tra\n",
    "#clf.fit(X_train,y_train)"
   ]
  },
  {
   "cell_type": "code",
   "execution_count": null,
   "id": "abb5b3d6",
   "metadata": {},
   "outputs": [],
   "source": [
    "#X_train"
   ]
  },
  {
   "cell_type": "code",
   "execution_count": null,
   "id": "d6108e4c",
   "metadata": {},
   "outputs": [],
   "source": [
    "from skforecast.model_selection import grid_search_forecaster\n"
   ]
  },
  {
   "cell_type": "code",
   "execution_count": null,
   "id": "f95ea1dd",
   "metadata": {},
   "outputs": [],
   "source": [
    "one_hot = pd.get_dummies(df_timeseries_monthly[\"sentiment\"])\n",
    "#df_timeseries_monthly.drop(['sentiment'],axis=1,inplace=True)\n",
    "df_timeseries_monthlyoh = pd.concat([df_timeseries_monthly,one_hot],axis=1)\n",
    "df_timeseries_monthlyoh"
   ]
  },
  {
   "cell_type": "code",
   "execution_count": null,
   "id": "0a99537e",
   "metadata": {},
   "outputs": [],
   "source": [
    "df_timeseries_monthly"
   ]
  },
  {
   "cell_type": "code",
   "execution_count": null,
   "id": "043b37e1",
   "metadata": {},
   "outputs": [],
   "source": [
    "#y_series=pd.Series(df_timeseries_monthly[[0]], index=df_timeseries_monthly.index)\n",
    "y_series1 = df_timeseries_monthlyoh[[0]].squeeze()\n",
    "y_series2 = df_timeseries_monthlyoh[[1]].squeeze()\n",
    "y_series3 = df_timeseries_monthlyoh[[2]].squeeze()\n",
    "#print(type(y_series))"
   ]
  },
  {
   "cell_type": "code",
   "execution_count": null,
   "id": "ee79504a",
   "metadata": {},
   "outputs": [],
   "source": [
    "#y_series"
   ]
  },
  {
   "cell_type": "code",
   "execution_count": null,
   "id": "f6adcc98",
   "metadata": {},
   "outputs": [],
   "source": [
    "df_timeseries_monthly"
   ]
  },
  {
   "cell_type": "code",
   "execution_count": null,
   "id": "b3abef9b",
   "metadata": {},
   "outputs": [],
   "source": [
    "# Hyperparameter Grid search\n",
    "# ==============================================================================\n",
    "steps = 18\n",
    "forecaster = ForecasterAutoreg(\n",
    "                regressor = RandomForestClassifier(random_state=123),\n",
    "                lags      = 12 # This value will be replaced in the grid search\n",
    "             )\n",
    "\n",
    "# Lags used as predictors\n",
    "lags_grid = [10, 20]\n",
    "  \n",
    "# Regressor's hyperparameters\n",
    "param_grid = {'n_estimators': [100, 500],\n",
    "              'max_depth': [3, 5, 10]}\n",
    "\n",
    "results_grid = grid_search_forecaster(\n",
    "                        forecaster         = forecaster,\n",
    "                        y                  = train['sentiment'],\n",
    "                        param_grid         = param_grid,\n",
    "                        lags_grid          = lags_grid,\n",
    "                        steps              = steps,\n",
    "                        refit              = True,\n",
    "                        metric             = 'mean_absolute_error',\n",
    "                        initial_train_size = int(len(train)*0.5),\n",
    "                        fixed_train_size   = False,\n",
    "                        return_best        = True,\n",
    "                        verbose            = False\n",
    "               )"
   ]
  },
  {
   "cell_type": "code",
   "execution_count": null,
   "id": "515c4e8e",
   "metadata": {},
   "outputs": [],
   "source": [
    "# Function to calculate predictors from time series\n",
    "# ==============================================================================\n",
    "def custom_predictors(y):\n",
    "    '''\n",
    "    Create first 10 lags of a time series.\n",
    "    Calculate moving average with window 20.\n",
    "    '''\n",
    "    \n",
    "    lags = y[-1:-11:-1]\n",
    "    mean = np.mean(y[-20:])\n",
    "    predictors = np.hstack([lags, mean])\n",
    "    \n",
    "    return predictors"
   ]
  },
  {
   "cell_type": "code",
   "execution_count": null,
   "id": "d55ff3cf",
   "metadata": {},
   "outputs": [],
   "source": [
    "# Create and train forecaster\n",
    "# ==============================================================================\n",
    "forecaster = ForecasterAutoregCustom(\n",
    "                regressor      = RandomForestClassifier(random_state=123),\n",
    "                fun_predictors = custom_predictors,\n",
    "                window_size    = 20\n",
    "             )\n",
    "\n",
    "forecaster.fit(y=train['sentiment'])\n",
    "forecaster"
   ]
  },
  {
   "cell_type": "code",
   "execution_count": null,
   "id": "5a2ab751",
   "metadata": {},
   "outputs": [],
   "source": [
    "# Predictions\n",
    "# ==============================================================================\n",
    "steps = 18\n",
    "predictions = forecaster.predict(steps=steps)"
   ]
  },
  {
   "cell_type": "code",
   "execution_count": null,
   "id": "38736651",
   "metadata": {},
   "outputs": [],
   "source": [
    "# Plot\n",
    "# ==============================================================================\n",
    "fig, ax = plt.subplots(figsize=(9, 4))\n",
    "train['sentiment'].plot(ax=ax, label='train')\n",
    "test['sentiment'].plot(ax=ax, label='test')\n",
    "predictions.plot(ax=ax, label='predictions',color='black')\n",
    "ax.legend();"
   ]
  },
  {
   "cell_type": "code",
   "execution_count": null,
   "id": "a14415ed",
   "metadata": {},
   "outputs": [],
   "source": [
    "# Test error\n",
    "# ==============================================================================\n",
    "error_mse = mean_squared_error(\n",
    "                y_true = test['sentiment'],\n",
    "                y_pred = predictions\n",
    "            )\n",
    "print(f\"Test error (mse): {error_mse}\")"
   ]
  },
  {
   "cell_type": "code",
   "execution_count": null,
   "id": "2ef534d8",
   "metadata": {},
   "outputs": [],
   "source": [
    "# Hyperparameter Grid search\n",
    "# ==============================================================================\n",
    "steps = 18\n",
    "forecaster = ForecasterAutoregCustom(\n",
    "                regressor      = RandomForestClassifier(random_state=123),\n",
    "                fun_predictors = custom_predictors,\n",
    "                window_size    = 20\n",
    "             )\n",
    "\n",
    "# Regressor's hyperparameters\n",
    "param_grid = {'n_estimators': [100, 500],\n",
    "              'max_depth': [3, 5, 10]}\n",
    "\n",
    "results_grid = grid_search_forecaster(\n",
    "                        forecaster  = forecaster,\n",
    "                        y           = train['sentiment'],\n",
    "                        param_grid  = param_grid,\n",
    "                        steps       = steps,\n",
    "                        refit       = True,\n",
    "                        metric      = 'mean_squared_error',\n",
    "                        initial_train_size = int(len(train)*0.5),\n",
    "                        fixed_train_size   = False,\n",
    "                        return_best = True,\n",
    "                        verbose     = False\n",
    "               )"
   ]
  },
  {
   "cell_type": "code",
   "execution_count": null,
   "id": "540da243",
   "metadata": {},
   "outputs": [],
   "source": [
    "# Grid Search results\n",
    "# ==============================================================================\n",
    "results_grid"
   ]
  },
  {
   "cell_type": "code",
   "execution_count": null,
   "id": "cfd80dd9",
   "metadata": {},
   "outputs": [],
   "source": [
    "# Create and train forecaster\n",
    "# ==============================================================================\n",
    "forecaster = ForecasterAutoregCustom(\n",
    "                regressor      = RandomForestClassifier(random_state=123),\n",
    "                fun_predictors = custom_predictors,\n",
    "                window_size    = 20\n",
    "             )"
   ]
  },
  {
   "cell_type": "code",
   "execution_count": null,
   "id": "3c88f103",
   "metadata": {},
   "outputs": [],
   "source": [
    "def autoregpred(x,y,z):\n",
    "    global vfig\n",
    "    train = x[x.index <= pd.to_datetime(\"2018-12-31\", format='%Y-%m-%d')]\n",
    "    test = x[x.index >= pd.to_datetime(\"2019-01-01\", format='%Y-%m-%d')]\n",
    "    forecaster.fit(y=train['sentiment'])\n",
    "    # Predictions\n",
    "    # ==============================================================================\n",
    "    steps = z \n",
    "    predictions = forecaster.predict(steps=steps)\n",
    "    # Plot\n",
    "    # ==============================================================================\n",
    "    vfig=f'fig{y}'\n",
    "    vfig, ax = plt.subplots(figsize=(9, 4))\n",
    "    train['sentiment'].plot(ax=ax, label='train')\n",
    "    test['sentiment'].plot(ax=ax, label='test')\n",
    "    predictions.plot(ax=ax, label='predictions',color='black')\n",
    "    ax.legend()\n",
    "    # Test error\n",
    "    # ==============================================================================\n",
    "    error_mse = mean_squared_error(\n",
    "                y_true = test['sentiment'],\n",
    "                y_pred = predictions\n",
    "            )\n",
    "    print(f\"Test error (mse): {error_mse}\")\n",
    "\n",
    "\n",
    "    \n",
    "    "
   ]
  },
  {
   "cell_type": "code",
   "execution_count": null,
   "id": "68b06c85",
   "metadata": {},
   "outputs": [],
   "source": [
    "#vfig"
   ]
  },
  {
   "cell_type": "code",
   "execution_count": null,
   "id": "262a0c0d",
   "metadata": {},
   "outputs": [],
   "source": [
    "\n",
    "c_autoregpredm=autoregpred(df_timeseries_monthly,'month',18)"
   ]
  },
  {
   "cell_type": "code",
   "execution_count": null,
   "id": "953ac165",
   "metadata": {},
   "outputs": [],
   "source": [
    "steps = 80\n",
    "c_autoregpredw=autoregpred(df_timeseries_weekly,'week',80)"
   ]
  },
  {
   "cell_type": "code",
   "execution_count": null,
   "id": "23bdb827",
   "metadata": {},
   "outputs": [],
   "source": [
    "\n",
    "train = df_timeseries_quarterly[df_timeseries_quarterly.index <= pd.to_datetime(\"2017-12-31\", format='%Y-%m-%d')]\n",
    "test = df_timeseries_quarterly[df_timeseries_quarterly.index >= pd.to_datetime(\"2018-01-01\", format='%Y-%m-%d')]\n",
    "train"
   ]
  },
  {
   "cell_type": "code",
   "execution_count": null,
   "id": "5cace636",
   "metadata": {},
   "outputs": [],
   "source": [
    "# Function to calculate predictors from time series\n",
    "# ==============================================================================\n",
    "def custom_predictorsq(y):\n",
    "    '''\n",
    "    Create first 10 lags of a time series.\n",
    "    Calculate moving average with window 20.\n",
    "    '''\n",
    "    \n",
    "    lags = y[-1:-3:-1]\n",
    "    mean = np.mean(y[-4:])\n",
    "    predictors = np.hstack([lags, mean])\n",
    "    \n",
    "    return predictors"
   ]
  },
  {
   "cell_type": "code",
   "execution_count": null,
   "id": "65ea69dd",
   "metadata": {},
   "outputs": [],
   "source": [
    "# Create and train forecaster\n",
    "# ==============================================================================\n",
    "forecasterq = ForecasterAutoregCustom(\n",
    "                regressor      = RandomForestClassifier(random_state=123),\n",
    "                fun_predictors = custom_predictorsq,\n",
    "                window_size    = 4\n",
    "             )"
   ]
  },
  {
   "cell_type": "code",
   "execution_count": null,
   "id": "2aaf6f1e",
   "metadata": {},
   "outputs": [],
   "source": [
    "def autoregpredq(x):\n",
    "    global figq\n",
    "    train = df_timeseries_quarterly[df_timeseries_quarterly.index <= pd.to_datetime(\"2018-12-31\", format='%Y-%m-%d')]\n",
    "    test = df_timeseries_quarterly[df_timeseries_quarterly.index >= pd.to_datetime(\"2019-01-01\", format='%Y-%m-%d')]\n",
    "    forecasterq.fit(y=train['sentiment'])\n",
    "    # Predictions\n",
    "    # =======================================================================\n",
    "    steps = 6\n",
    "    predictions = forecasterq.predict(steps=steps)\n",
    "    # Plot\n",
    "    # =======================================================================\n",
    "    figq, ax = plt.subplots(figsize=(9, 4))\n",
    "    train['sentiment'].plot(ax=ax, label='train')\n",
    "    test['sentiment'].plot(ax=ax, label='test')\n",
    "    predictions.plot(ax=ax, label='predictions',color='black')\n",
    "    ax.legend()\n",
    "    # Test error\n",
    "    # =======================================================================\n",
    "    error_mse = mean_squared_error(\n",
    "                y_true = test['sentiment'],\n",
    "                y_pred = predictions\n",
    "            )\n",
    "    print(f\"Test error (mse): {error_mse}\")\n",
    "\n"
   ]
  },
  {
   "cell_type": "code",
   "execution_count": null,
   "id": "8f095576",
   "metadata": {},
   "outputs": [],
   "source": [
    "c_autoregpredq=autoregpredq(df_timeseries_quarterly)"
   ]
  },
  {
   "cell_type": "markdown",
   "id": "62e861c1",
   "metadata": {},
   "source": [
    "# Interactive Dashboard"
   ]
  },
  {
   "cell_type": "code",
   "execution_count": null,
   "id": "5cfa68eb",
   "metadata": {},
   "outputs": [],
   "source": [
    "#import libraries\n",
    "import tkinter as tk\n",
    "from matplotlib.backends.backend_tkagg import FigureCanvasTkAgg\n",
    "from matplotlib.figure import Figure\n",
    "#Visualisation\n",
    "import plotly.express as px\n",
    "import ipywidgets as widgets\n",
    "from ipywidgets import Layout\n",
    "import matplotlib.pyplot as plt \n",
    "import seaborn as sns\n",
    "from tkinter import *\n",
    "\n",
    "#from senttkinter import *\n",
    "\n",
    "# Intatitate a method root from Tkinter class\n",
    "root= tk.Tk()\n",
    "\n",
    "#Set the canvas for the UI\n",
    "canvas1 = tk.Canvas(root, width = 800, height = 500)\n",
    "canvas1.pack()\n",
    "\n",
    "# labels to be included in the UI\n",
    "label1 = tk.Label(root, text='Elon Musk twitter Analysis')\n",
    "label1.config(font=('Arial', 20))\n",
    "canvas1.create_window(400, 50, window=label1)\n",
    "\n",
    "label2 = tk.Label(root, text='****Make sure you click on clear charts before navigating to any other button****')\n",
    "label2.config(font=('Arial', 10))\n",
    "canvas1.create_window(400, 110, window=label2)\n",
    "global autoregpred\n",
    "\n",
    "# Define a function for Interactive animal count\n",
    "def qsentimentchart():\n",
    "    global fig1\n",
    "    #Call the interactive widget method, function update_bar is invoked from the object.\n",
    "    #figure=autoregpredq(df_timeseries_quarterly) \n",
    "    #figure = plt.figure(figsize=(20,5))\n",
    "    fig1 = FigureCanvasTkAgg(figq, root) #figure is global as defined in interactive widget\n",
    "    fig1.get_tk_widget().pack(side=tk.TOP, fill=tk.BOTH, expand=0)\n",
    "\n",
    "# Define a function for Interactive animal count\n",
    "def wsentimentchart():\n",
    "    global fig2\n",
    "    #Call the interactive widget method, function update_bar is invoked from the object.\n",
    "    autoregpred(df_timeseries_weekly,'week',80)\n",
    "    #figure = plt.figure(figsize=(20,5))\n",
    "    fig2= FigureCanvasTkAgg(vfig, root) #figure is global as defined in interactive widget\n",
    "    fig2.get_tk_widget().pack(side=tk.TOP, fill=tk.BOTH, expand=0)\n",
    "\n",
    "    \n",
    "# Define a function for Interactive animal count\n",
    "def msentimentchart():\n",
    "    global fig3\n",
    "    #Call the interactive widget method, function update_bar is invoked from the object.\n",
    "    autoregpred(df_timeseries_monthly,'month',18)\n",
    "    #figure = plt.figure(figsize=(20,5))\n",
    "    fig3 = FigureCanvasTkAgg(vfig, root) #figure is global as defined in interactive widget\n",
    "    fig3.get_tk_widget().pack(side=tk.TOP, fill=tk.BOTH, expand=0)\n",
    "\n",
    "# Define a function for clearing the stats\n",
    "def clear_charts():\n",
    "    fig1.get_tk_widget().pack_forget()\n",
    "    fig2.get_tk_widget().pack_forget()\n",
    "    fig3.get_tk_widget().pack_forget()\n",
    "    \n",
    "#Create buttons for the UI navigation,and call the functions defined above\n",
    "button1 = tk.Button (root, text=' Quartely sentiment forecast Chart ',command=qsentimentchart, bg='palegreen2', font=('Arial', 11, 'bold')) \n",
    "canvas1.create_window(400, 140, window=button1)\n",
    "\n",
    "button2 = tk.Button (root, text=' Weekly sentiment forecast Chart ',command=wsentimentchart, bg='palegreen2', font=('Arial', 11, 'bold')) \n",
    "canvas1.create_window(400, 180, window=button2)\n",
    "#\n",
    "button3 = tk.Button (root, text=' Monthly sentiment forecast Chart ',command=msentimentchart, bg='palegreen2', font=('Arial', 11, 'bold')) \n",
    "canvas1.create_window(400, 220, window=button3)\n",
    "#\n",
    "button4 = tk.Button (root, text='  Clear Charts  ', command=clear_charts, bg='lightskyblue2', font=('Arial', 11, 'bold'))\n",
    "canvas1.create_window(400, 260, window=button4)\n",
    "\n",
    "button5= tk.Button (root, text='Exit Application', command=root.destroy, bg='lightsteelblue2', font=('Arial', 11, 'bold'))\n",
    "canvas1.create_window(400, 300, window=button5)\n",
    " \n",
    "# call the method root instaniated above for getting the UI\n",
    "root.mainloop()\n",
    "    \n",
    "\n",
    "\n"
   ]
  },
  {
   "cell_type": "code",
   "execution_count": null,
   "id": "bb84359b",
   "metadata": {},
   "outputs": [],
   "source": [
    "c_autoregpredq"
   ]
  },
  {
   "cell_type": "code",
   "execution_count": null,
   "id": "5d970394",
   "metadata": {},
   "outputs": [],
   "source": []
  }
 ],
 "metadata": {
  "kernelspec": {
   "display_name": "Python 3 (ipykernel)",
   "language": "python",
   "name": "python3"
  },
  "language_info": {
   "codemirror_mode": {
    "name": "ipython",
    "version": 3
   },
   "file_extension": ".py",
   "mimetype": "text/x-python",
   "name": "python",
   "nbconvert_exporter": "python",
   "pygments_lexer": "ipython3",
   "version": "3.9.12"
  }
 },
 "nbformat": 4,
 "nbformat_minor": 5
}
